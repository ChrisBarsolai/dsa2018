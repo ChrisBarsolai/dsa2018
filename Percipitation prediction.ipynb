{
 "cells": [
  {
   "cell_type": "code",
   "execution_count": 2,
   "metadata": {},
   "outputs": [],
   "source": [
    "## Map of the stations.. \n",
    "from mpl_toolkits.basemap import Basemap\n",
    "import matplotlib.pylab as plt\n",
    "%matplotlib inline \n",
    "import pandas as pd \n",
    "import numpy as np \n",
    "import statsmodels.api as st\n",
    "import statsmodels.formula.api as sfa \n",
    "import seaborn as sbn \n",
    "from sklearn.linear_model import LinearRegression\n",
    "import sklearn.metrics as mt \n",
    "from sklearn.neighbors import KernelDensity"
   ]
  },
  {
   "cell_type": "markdown",
   "metadata": {},
   "source": [
    "### Data pre-processing"
   ]
  },
  {
   "cell_type": "code",
   "execution_count": 3,
   "metadata": {},
   "outputs": [],
   "source": [
    "## Load daily rainfall data\n",
    "allrain = pd.read_csv('gpm-tahmo-rain.csv')\n",
    "allrain.datetime = pd.to_datetime(allrain.datetime)\n",
    "tahmo_rain = allrain[['station','year','datetime','tahmo']]"
   ]
  },
  {
   "cell_type": "code",
   "execution_count": 4,
   "metadata": {},
   "outputs": [
    {
     "data": {
      "text/html": [
       "<div>\n",
       "<style scoped>\n",
       "    .dataframe tbody tr th:only-of-type {\n",
       "        vertical-align: middle;\n",
       "    }\n",
       "\n",
       "    .dataframe tbody tr th {\n",
       "        vertical-align: top;\n",
       "    }\n",
       "\n",
       "    .dataframe thead th {\n",
       "        text-align: right;\n",
       "    }\n",
       "</style>\n",
       "<table border=\"1\" class=\"dataframe\">\n",
       "  <thead>\n",
       "    <tr style=\"text-align: right;\">\n",
       "      <th></th>\n",
       "      <th>station</th>\n",
       "      <th>year</th>\n",
       "      <th>datetime</th>\n",
       "      <th>tahmo</th>\n",
       "    </tr>\n",
       "  </thead>\n",
       "  <tbody>\n",
       "    <tr>\n",
       "      <th>0</th>\n",
       "      <td>TA00020</td>\n",
       "      <td>2016</td>\n",
       "      <td>2016-01-01</td>\n",
       "      <td>0.0</td>\n",
       "    </tr>\n",
       "    <tr>\n",
       "      <th>1</th>\n",
       "      <td>TA00020</td>\n",
       "      <td>2016</td>\n",
       "      <td>2016-01-02</td>\n",
       "      <td>0.0</td>\n",
       "    </tr>\n",
       "    <tr>\n",
       "      <th>2</th>\n",
       "      <td>TA00020</td>\n",
       "      <td>2016</td>\n",
       "      <td>2016-01-03</td>\n",
       "      <td>0.0</td>\n",
       "    </tr>\n",
       "    <tr>\n",
       "      <th>3</th>\n",
       "      <td>TA00020</td>\n",
       "      <td>2016</td>\n",
       "      <td>2016-01-04</td>\n",
       "      <td>0.0</td>\n",
       "    </tr>\n",
       "    <tr>\n",
       "      <th>4</th>\n",
       "      <td>TA00020</td>\n",
       "      <td>2016</td>\n",
       "      <td>2016-01-05</td>\n",
       "      <td>0.0</td>\n",
       "    </tr>\n",
       "  </tbody>\n",
       "</table>\n",
       "</div>"
      ],
      "text/plain": [
       "   station  year   datetime  tahmo\n",
       "0  TA00020  2016 2016-01-01    0.0\n",
       "1  TA00020  2016 2016-01-02    0.0\n",
       "2  TA00020  2016 2016-01-03    0.0\n",
       "3  TA00020  2016 2016-01-04    0.0\n",
       "4  TA00020  2016 2016-01-05    0.0"
      ]
     },
     "execution_count": 4,
     "metadata": {},
     "output_type": "execute_result"
    }
   ],
   "source": [
    "tahmo_rain.head(5)"
   ]
  },
  {
   "cell_type": "code",
   "execution_count": 5,
   "metadata": {},
   "outputs": [],
   "source": [
    "def nearby_stations(site_code, k=10, radius=500):\n",
    "    \"\"\"\n",
    "    Return k-nearest stations. \n",
    "    \"\"\"\n",
    "    stations = pd.read_csv(\"nearest_stations.csv\")\n",
    "    k_nearest = stations[(stations['from'] == site_code) & (stations['distance'] < radius)]\n",
    "    k_nearest = k_nearest.sort_values(by=['distance', 'elevation'], ascending=True)[0:k]\n",
    "    \n",
    "    return k_nearest"
   ]
  },
  {
   "cell_type": "code",
   "execution_count": 6,
   "metadata": {},
   "outputs": [],
   "source": [
    "filter_station = lambda stn_name, year: tahmo_rain[(tahmo_rain.station==stn_name) & (tahmo_rain.year==year)] "
   ]
  },
  {
   "cell_type": "code",
   "execution_count": 9,
   "metadata": {},
   "outputs": [],
   "source": [
    "# target station \n",
    "target_station = \"TA00025\"\n",
    "t_station = filter_station(target_station, 2016)"
   ]
  },
  {
   "cell_type": "code",
   "execution_count": 12,
   "metadata": {},
   "outputs": [],
   "source": [
    "def k_nearby_features(target_station, k=5, year=2016):\n",
    "    \"\"\"\n",
    "    Extract percipitation from k nearby stations. \n",
    "    \"\"\"\n",
    "    filter_stn = lambda stn_name, year: tahmo_rain[(tahmo_rain.station==stn_name) & (tahmo_rain.year==year)] \n",
    "    t_station = filter_stn(target_station, year)\n",
    "    k_station = nearby_stations(site_code=target_station, k=k,radius=300).to.tolist()\n",
    "    X = t_station['tahmo'].as_matrix().reshape([-1,1])\n",
    "    datetime = t_station.datetime.tolist()\n",
    "    \n",
    "   # print datetime.shape\n",
    "    for stt in k_station:\n",
    "        R = filter_stn(stt,year)[['tahmo']].as_matrix().reshape([-1,1])\n",
    "        X = np.hstack([X,R])\n",
    "        \n",
    "    df = pd.concat([pd.DataFrame(datetime),pd.DataFrame(X)], axis=1)\n",
    "    df.columns = [\"datetime\",target_station] + k_station\n",
    "    \n",
    "    return df"
   ]
  },
  {
   "cell_type": "markdown",
   "metadata": {},
   "source": [
    "### Data exploratory "
   ]
  },
  {
   "cell_type": "markdown",
   "metadata": {},
   "source": [
    "Task:\n",
    "    - predict the percipitation at a target stations using nearby stations.\n",
    "    - Target stations TA00025, TA00074 and TA00077"
   ]
  },
  {
   "cell_type": "code",
   "execution_count": 13,
   "metadata": {},
   "outputs": [],
   "source": [
    "## Target stations, TA0025, TA00077, TA00074 \n",
    "t_stn = k_nearby_features(target_station)"
   ]
  },
  {
   "cell_type": "code",
   "execution_count": 14,
   "metadata": {},
   "outputs": [
    {
     "name": "stdout",
     "output_type": "stream",
     "text": [
      "<class 'pandas.core.frame.DataFrame'>\n",
      "RangeIndex: 366 entries, 0 to 365\n",
      "Data columns (total 7 columns):\n",
      "datetime    366 non-null datetime64[ns]\n",
      "TA00025     366 non-null float64\n",
      "TA00066     366 non-null float64\n",
      "TA00057     366 non-null float64\n",
      "TA00020     366 non-null float64\n",
      "TA00024     366 non-null float64\n",
      "TA00056     366 non-null float64\n",
      "dtypes: datetime64[ns](1), float64(6)\n",
      "memory usage: 20.1 KB\n"
     ]
    }
   ],
   "source": [
    "t_stn.info()"
   ]
  },
  {
   "cell_type": "code",
   "execution_count": 35,
   "metadata": {},
   "outputs": [
    {
     "data": {
      "text/plain": [
       "<matplotlib.legend.Legend at 0x7feeb83bf350>"
      ]
     },
     "execution_count": 35,
     "metadata": {},
     "output_type": "execute_result"
    },
    {
     "data": {
      "image/png": "[encoded data removed]",
      "text/plain": [
       "<matplotlib.figure.Figure at 0x7feeb83fadd0>"
      ]
     },
     "metadata": {},
     "output_type": "display_data"
    }
   ],
   "source": [
    "plt.figure(figsize=(12,6))\n",
    "plt.plot(t_stn.datetime, t_stn[target_station],'ob',label=\"target station (\" + target_station+\")\")\n",
    "for i in range(2, 7):\n",
    "     plt.plot(t_stn.datetime, t_stn.iloc[:,i],'.',label=t_stn.columns[i])\n",
    "plt.ylabel(\"Daily percipitation at TA00025 in (mm)\")\n",
    "plt.xlabel(\"Days of the year\")\n",
    "plt.legend(loc=\"best\")"
   ]
  },
  {
   "cell_type": "markdown",
   "metadata": {},
   "source": [
    "Histogram of non-zero percipitation at target station "
   ]
  },
  {
   "cell_type": "code",
   "execution_count": 31,
   "metadata": {},
   "outputs": [],
   "source": [
    "t_nonzero_perp = np.log(t_stn[t_stn[target_station]>0][target_station])"
   ]
  },
  {
   "cell_type": "code",
   "execution_count": 32,
   "metadata": {},
   "outputs": [
    {
     "data": {
      "text/plain": [
       "<matplotlib.axes._subplots.AxesSubplot at 0x7feebb96a790>"
      ]
     },
     "execution_count": 32,
     "metadata": {},
     "output_type": "execute_result"
    },
    {
     "data": {
      "image/png": "[encoded data removed]",
      "text/plain": [
       "<matplotlib.figure.Figure at 0x7feebba58290>"
      ]
     },
     "metadata": {},
     "output_type": "display_data"
    }
   ],
   "source": [
    "sbn.kdeplot(t_nonzero_perp, shade=False)"
   ]
  },
  {
   "cell_type": "code",
   "execution_count": 376,
   "metadata": {},
   "outputs": [
    {
     "data": {
      "image/png": "[encoded data removed]",
      "text/plain": [
       "<matplotlib.figure.Figure at 0x7f95a109eb90>"
      ]
     },
     "metadata": {},
     "output_type": "display_data"
    }
   ],
   "source": [
    "sbn.distplot(t_nonzero_perp, hist=True);"
   ]
  },
  {
   "cell_type": "markdown",
   "metadata": {},
   "source": [
    "Fit logistic regression for rain response. "
   ]
  },
  {
   "cell_type": "code",
   "execution_count": 36,
   "metadata": {},
   "outputs": [],
   "source": [
    "t_stn['rain_yes'] = (t_stn[target_station]>0).astype(int)"
   ]
  },
  {
   "cell_type": "code",
   "execution_count": 37,
   "metadata": {},
   "outputs": [
    {
     "data": {
      "text/html": [
       "<div>\n",
       "<style scoped>\n",
       "    .dataframe tbody tr th:only-of-type {\n",
       "        vertical-align: middle;\n",
       "    }\n",
       "\n",
       "    .dataframe tbody tr th {\n",
       "        vertical-align: top;\n",
       "    }\n",
       "\n",
       "    .dataframe thead th {\n",
       "        text-align: right;\n",
       "    }\n",
       "</style>\n",
       "<table border=\"1\" class=\"dataframe\">\n",
       "  <thead>\n",
       "    <tr style=\"text-align: right;\">\n",
       "      <th></th>\n",
       "      <th>TA00066</th>\n",
       "      <th>TA00057</th>\n",
       "      <th>TA00020</th>\n",
       "      <th>TA00024</th>\n",
       "      <th>TA00056</th>\n",
       "    </tr>\n",
       "  </thead>\n",
       "  <tbody>\n",
       "    <tr>\n",
       "      <th>0</th>\n",
       "      <td>0.20</td>\n",
       "      <td>0.04</td>\n",
       "      <td>0.0</td>\n",
       "      <td>0.16</td>\n",
       "      <td>0.00</td>\n",
       "    </tr>\n",
       "    <tr>\n",
       "      <th>1</th>\n",
       "      <td>0.08</td>\n",
       "      <td>0.00</td>\n",
       "      <td>0.0</td>\n",
       "      <td>0.18</td>\n",
       "      <td>0.00</td>\n",
       "    </tr>\n",
       "    <tr>\n",
       "      <th>2</th>\n",
       "      <td>0.00</td>\n",
       "      <td>0.04</td>\n",
       "      <td>0.0</td>\n",
       "      <td>0.14</td>\n",
       "      <td>0.00</td>\n",
       "    </tr>\n",
       "    <tr>\n",
       "      <th>3</th>\n",
       "      <td>4.39</td>\n",
       "      <td>16.49</td>\n",
       "      <td>0.0</td>\n",
       "      <td>7.49</td>\n",
       "      <td>30.89</td>\n",
       "    </tr>\n",
       "    <tr>\n",
       "      <th>4</th>\n",
       "      <td>0.48</td>\n",
       "      <td>0.95</td>\n",
       "      <td>0.0</td>\n",
       "      <td>0.88</td>\n",
       "      <td>4.16</td>\n",
       "    </tr>\n",
       "  </tbody>\n",
       "</table>\n",
       "</div>"
      ],
      "text/plain": [
       "   TA00066  TA00057  TA00020  TA00024  TA00056\n",
       "0     0.20     0.04      0.0     0.16     0.00\n",
       "1     0.08     0.00      0.0     0.18     0.00\n",
       "2     0.00     0.04      0.0     0.14     0.00\n",
       "3     4.39    16.49      0.0     7.49    30.89\n",
       "4     0.48     0.95      0.0     0.88     4.16"
      ]
     },
     "execution_count": 37,
     "metadata": {},
     "output_type": "execute_result"
    }
   ],
   "source": [
    "t_stn.iloc[:,2:-1].head(5)"
   ]
  },
  {
   "cell_type": "code",
   "execution_count": 380,
   "metadata": {},
   "outputs": [],
   "source": [
    "formula = \"rain_yes~TA00066+TA00057+TA00020+TA00024+TA00056\""
   ]
  },
  {
   "cell_type": "code",
   "execution_count": 381,
   "metadata": {},
   "outputs": [],
   "source": [
    "m2 = sfa.glm(family=st.families.Binomial(st.families.links.logit), formula=formula, data=t_stn).fit()"
   ]
  },
  {
   "cell_type": "code",
   "execution_count": 382,
   "metadata": {},
   "outputs": [
    {
     "data": {
      "text/html": [
       "<table class=\"simpletable\">\n",
       "<caption>Generalized Linear Model Regression Results</caption>\n",
       "<tr>\n",
       "  <th>Dep. Variable:</th>      <td>rain_yes</td>     <th>  No. Observations:  </th>  <td>   366</td> \n",
       "</tr>\n",
       "<tr>\n",
       "  <th>Model:</th>                 <td>GLM</td>       <th>  Df Residuals:      </th>  <td>   360</td> \n",
       "</tr>\n",
       "<tr>\n",
       "  <th>Model Family:</th>       <td>Binomial</td>     <th>  Df Model:          </th>  <td>     5</td> \n",
       "</tr>\n",
       "<tr>\n",
       "  <th>Link Function:</th>        <td>logit</td>      <th>  Scale:             </th>    <td>1.0</td>  \n",
       "</tr>\n",
       "<tr>\n",
       "  <th>Method:</th>               <td>IRLS</td>       <th>  Log-Likelihood:    </th> <td>     nan</td>\n",
       "</tr>\n",
       "<tr>\n",
       "  <th>Date:</th>           <td>Wed, 23 May 2018</td> <th>  Deviance:          </th> <td>  363.65</td>\n",
       "</tr>\n",
       "<tr>\n",
       "  <th>Time:</th>               <td>13:46:11</td>     <th>  Pearson chi2:      </th>  <td>  328.</td> \n",
       "</tr>\n",
       "<tr>\n",
       "  <th>No. Iterations:</th>        <td>11</td>        <th>                     </th>     <td> </td>   \n",
       "</tr>\n",
       "</table>\n",
       "<table class=\"simpletable\">\n",
       "<tr>\n",
       "      <td></td>         <th>coef</th>     <th>std err</th>      <th>z</th>      <th>P>|z|</th>  <th>[0.025</th>    <th>0.975]</th>  \n",
       "</tr>\n",
       "<tr>\n",
       "  <th>Intercept</th> <td>   -0.8638</td> <td>    0.146</td> <td>   -5.932</td> <td> 0.000</td> <td>   -1.149</td> <td>   -0.578</td>\n",
       "</tr>\n",
       "<tr>\n",
       "  <th>TA00066</th>   <td>    1.4307</td> <td>    0.597</td> <td>    2.396</td> <td> 0.017</td> <td>    0.260</td> <td>    2.601</td>\n",
       "</tr>\n",
       "<tr>\n",
       "  <th>TA00057</th>   <td>    1.4002</td> <td>    0.467</td> <td>    3.001</td> <td> 0.003</td> <td>    0.486</td> <td>    2.315</td>\n",
       "</tr>\n",
       "<tr>\n",
       "  <th>TA00020</th>   <td>    0.0106</td> <td>    0.073</td> <td>    0.144</td> <td> 0.885</td> <td>   -0.133</td> <td>    0.154</td>\n",
       "</tr>\n",
       "<tr>\n",
       "  <th>TA00024</th>   <td>    1.3076</td> <td>    0.566</td> <td>    2.308</td> <td> 0.021</td> <td>    0.197</td> <td>    2.418</td>\n",
       "</tr>\n",
       "<tr>\n",
       "  <th>TA00056</th>   <td>    0.0098</td> <td>    0.040</td> <td>    0.241</td> <td> 0.809</td> <td>   -0.069</td> <td>    0.089</td>\n",
       "</tr>\n",
       "</table>"
      ],
      "text/plain": [
       "<class 'statsmodels.iolib.summary.Summary'>\n",
       "\"\"\"\n",
       "                 Generalized Linear Model Regression Results                  \n",
       "==============================================================================\n",
       "Dep. Variable:               rain_yes   No. Observations:                  366\n",
       "Model:                            GLM   Df Residuals:                      360\n",
       "Model Family:                Binomial   Df Model:                            5\n",
       "Link Function:                  logit   Scale:                             1.0\n",
       "Method:                          IRLS   Log-Likelihood:                    nan\n",
       "Date:                Wed, 23 May 2018   Deviance:                       363.65\n",
       "Time:                        13:46:11   Pearson chi2:                     328.\n",
       "No. Iterations:                    11                                         \n",
       "==============================================================================\n",
       "                 coef    std err          z      P>|z|      [0.025      0.975]\n",
       "------------------------------------------------------------------------------\n",
       "Intercept     -0.8638      0.146     -5.932      0.000      -1.149      -0.578\n",
       "TA00066        1.4307      0.597      2.396      0.017       0.260       2.601\n",
       "TA00057        1.4002      0.467      3.001      0.003       0.486       2.315\n",
       "TA00020        0.0106      0.073      0.144      0.885      -0.133       0.154\n",
       "TA00024        1.3076      0.566      2.308      0.021       0.197       2.418\n",
       "TA00056        0.0098      0.040      0.241      0.809      -0.069       0.089\n",
       "==============================================================================\n",
       "\"\"\""
      ]
     },
     "execution_count": 382,
     "metadata": {},
     "output_type": "execute_result"
    }
   ],
   "source": [
    "m2.summary()"
   ]
  },
  {
   "cell_type": "code",
   "execution_count": 389,
   "metadata": {},
   "outputs": [],
   "source": [
    "i = np.argsort(m2.fittedvalues).tolist()"
   ]
  },
  {
   "cell_type": "code",
   "execution_count": 394,
   "metadata": {},
   "outputs": [],
   "source": [
    "observed_value = t_stn.iloc[:,2:-1].mean(axis=1)"
   ]
  },
  {
   "cell_type": "code",
   "execution_count": 393,
   "metadata": {},
   "outputs": [
    {
     "data": {
      "text/plain": [
       "(5,)"
      ]
     },
     "execution_count": 393,
     "metadata": {},
     "output_type": "execute_result"
    }
   ],
   "source": [
    "observed_value.shape"
   ]
  },
  {
   "cell_type": "code",
   "execution_count": 397,
   "metadata": {},
   "outputs": [
    {
     "data": {
      "text/plain": [
       "<matplotlib.text.Text at 0x7f95a09c0e90>"
      ]
     },
     "execution_count": 397,
     "metadata": {},
     "output_type": "execute_result"
    },
    {
     "data": {
      "image/png": "[encoded data removed]",
      "text/plain": [
       "<matplotlib.figure.Figure at 0x7f95a0bf24d0>"
      ]
     },
     "metadata": {},
     "output_type": "display_data"
    }
   ],
   "source": [
    "\n",
    "plt.plot(observed_value[i],t_stn['rain_yes'][i],'*b')\n",
    "plt.scatter(observed_value[i], m2.fittedvalues[i],facecolor='none',edgecolors='r')\n",
    "plt.xlabel('Observed percipitation')\n",
    "plt.ylabel(\"Rain or not\")\n",
    "## x-axsi k-station average. "
   ]
  },
  {
   "cell_type": "code",
   "execution_count": 317,
   "metadata": {},
   "outputs": [],
   "source": [
    "pp = m2.fittedvalues\n",
    "ll = t_stn['rain_yes']\n",
    "fpr_rt_lm, tpr_rt_lm, _ = mt.roc_curve( ll, pp)\n",
    "auc_score = mt.auc(fpr_rt_lm, tpr_rt_lm, reorder=True)"
   ]
  },
  {
   "cell_type": "code",
   "execution_count": 318,
   "metadata": {},
   "outputs": [
    {
     "data": {
      "text/plain": [
       "0.8654592689918776"
      ]
     },
     "execution_count": 318,
     "metadata": {},
     "output_type": "execute_result"
    }
   ],
   "source": [
    "auc_score"
   ]
  },
  {
   "cell_type": "code",
   "execution_count": 319,
   "metadata": {},
   "outputs": [
    {
     "data": {
      "text/plain": [
       "<matplotlib.legend.Legend at 0x7f95a6773dd0>"
      ]
     },
     "execution_count": 319,
     "metadata": {},
     "output_type": "execute_result"
    },
    {
     "data": {
      "image/png": "[encoded data removed]",
      "text/plain": [
       "<matplotlib.figure.Figure at 0x7f95a7dae710>"
      ]
     },
     "metadata": {},
     "output_type": "display_data"
    }
   ],
   "source": [
    "plt.clf()\n",
    "plt.plot(fpr_rt_lm, tpr_rt_lm, label='ROC curve')\n",
    "plt.ylabel(\"tpr\")\n",
    "plt.xlabel(\"fpr\")\n",
    "plt.plot(range(0,2),range(0,2),'-r')\n",
    "plt.text(0.6, 0.2,\"auc=\"+str(auc_score))\n",
    "plt.legend(loc='best')\n"
   ]
  },
  {
   "cell_type": "code",
   "execution_count": 240,
   "metadata": {},
   "outputs": [],
   "source": [
    "##  Use the m2 predictiosn for probability of rain as the weights in fitting the linear model. "
   ]
  },
  {
   "cell_type": "code",
   "execution_count": 399,
   "metadata": {},
   "outputs": [],
   "source": [
    "eps = .1\n",
    "weights = m2.fittedvalues\n",
    "for cln in t_stn.columns[1:-1]:\n",
    "    t_stn['l'+cln] = np.log(t_stn[cln] + eps)"
   ]
  },
  {
   "cell_type": "code",
   "execution_count": 411,
   "metadata": {},
   "outputs": [
    {
     "data": {
      "text/html": [
       "<div>\n",
       "<style scoped>\n",
       "    .dataframe tbody tr th:only-of-type {\n",
       "        vertical-align: middle;\n",
       "    }\n",
       "\n",
       "    .dataframe tbody tr th {\n",
       "        vertical-align: top;\n",
       "    }\n",
       "\n",
       "    .dataframe thead th {\n",
       "        text-align: right;\n",
       "    }\n",
       "</style>\n",
       "<table border=\"1\" class=\"dataframe\">\n",
       "  <thead>\n",
       "    <tr style=\"text-align: right;\">\n",
       "      <th></th>\n",
       "      <th>datetime</th>\n",
       "      <th>TA00025</th>\n",
       "      <th>TA00066</th>\n",
       "      <th>TA00057</th>\n",
       "      <th>TA00020</th>\n",
       "      <th>TA00024</th>\n",
       "      <th>TA00056</th>\n",
       "      <th>rain_yes</th>\n",
       "      <th>lTA00025</th>\n",
       "      <th>lTA00066</th>\n",
       "      <th>lTA00057</th>\n",
       "      <th>lTA00020</th>\n",
       "      <th>lTA00024</th>\n",
       "      <th>lTA00056</th>\n",
       "    </tr>\n",
       "  </thead>\n",
       "  <tbody>\n",
       "    <tr>\n",
       "      <th>0</th>\n",
       "      <td>2016-01-01</td>\n",
       "      <td>0.14</td>\n",
       "      <td>0.20</td>\n",
       "      <td>0.04</td>\n",
       "      <td>0.0</td>\n",
       "      <td>0.16</td>\n",
       "      <td>0.00</td>\n",
       "      <td>1</td>\n",
       "      <td>-1.427116</td>\n",
       "      <td>-1.203973</td>\n",
       "      <td>-1.966113</td>\n",
       "      <td>-2.302585</td>\n",
       "      <td>-1.347074</td>\n",
       "      <td>-2.302585</td>\n",
       "    </tr>\n",
       "    <tr>\n",
       "      <th>1</th>\n",
       "      <td>2016-01-02</td>\n",
       "      <td>0.04</td>\n",
       "      <td>0.08</td>\n",
       "      <td>0.00</td>\n",
       "      <td>0.0</td>\n",
       "      <td>0.18</td>\n",
       "      <td>0.00</td>\n",
       "      <td>1</td>\n",
       "      <td>-1.966113</td>\n",
       "      <td>-1.714798</td>\n",
       "      <td>-2.302585</td>\n",
       "      <td>-2.302585</td>\n",
       "      <td>-1.272966</td>\n",
       "      <td>-2.302585</td>\n",
       "    </tr>\n",
       "    <tr>\n",
       "      <th>2</th>\n",
       "      <td>2016-01-03</td>\n",
       "      <td>0.08</td>\n",
       "      <td>0.00</td>\n",
       "      <td>0.04</td>\n",
       "      <td>0.0</td>\n",
       "      <td>0.14</td>\n",
       "      <td>0.00</td>\n",
       "      <td>1</td>\n",
       "      <td>-1.714798</td>\n",
       "      <td>-2.302585</td>\n",
       "      <td>-1.966113</td>\n",
       "      <td>-2.302585</td>\n",
       "      <td>-1.427116</td>\n",
       "      <td>-2.302585</td>\n",
       "    </tr>\n",
       "    <tr>\n",
       "      <th>3</th>\n",
       "      <td>2016-01-04</td>\n",
       "      <td>3.64</td>\n",
       "      <td>4.39</td>\n",
       "      <td>16.49</td>\n",
       "      <td>0.0</td>\n",
       "      <td>7.49</td>\n",
       "      <td>30.89</td>\n",
       "      <td>1</td>\n",
       "      <td>1.319086</td>\n",
       "      <td>1.501853</td>\n",
       "      <td>2.808800</td>\n",
       "      <td>-2.302585</td>\n",
       "      <td>2.026832</td>\n",
       "      <td>3.433665</td>\n",
       "    </tr>\n",
       "    <tr>\n",
       "      <th>4</th>\n",
       "      <td>2016-01-05</td>\n",
       "      <td>0.77</td>\n",
       "      <td>0.48</td>\n",
       "      <td>0.95</td>\n",
       "      <td>0.0</td>\n",
       "      <td>0.88</td>\n",
       "      <td>4.16</td>\n",
       "      <td>1</td>\n",
       "      <td>-0.139262</td>\n",
       "      <td>-0.544727</td>\n",
       "      <td>0.048790</td>\n",
       "      <td>-2.302585</td>\n",
       "      <td>-0.020203</td>\n",
       "      <td>1.449269</td>\n",
       "    </tr>\n",
       "  </tbody>\n",
       "</table>\n",
       "</div>"
      ],
      "text/plain": [
       "    datetime  TA00025  TA00066  TA00057  TA00020  TA00024  TA00056  rain_yes  \\\n",
       "0 2016-01-01     0.14     0.20     0.04      0.0     0.16     0.00         1   \n",
       "1 2016-01-02     0.04     0.08     0.00      0.0     0.18     0.00         1   \n",
       "2 2016-01-03     0.08     0.00     0.04      0.0     0.14     0.00         1   \n",
       "3 2016-01-04     3.64     4.39    16.49      0.0     7.49    30.89         1   \n",
       "4 2016-01-05     0.77     0.48     0.95      0.0     0.88     4.16         1   \n",
       "\n",
       "   lTA00025  lTA00066  lTA00057  lTA00020  lTA00024  lTA00056  \n",
       "0 -1.427116 -1.203973 -1.966113 -2.302585 -1.347074 -2.302585  \n",
       "1 -1.966113 -1.714798 -2.302585 -2.302585 -1.272966 -2.302585  \n",
       "2 -1.714798 -2.302585 -1.966113 -2.302585 -1.427116 -2.302585  \n",
       "3  1.319086  1.501853  2.808800 -2.302585  2.026832  3.433665  \n",
       "4 -0.139262 -0.544727  0.048790 -2.302585 -0.020203  1.449269  "
      ]
     },
     "execution_count": 411,
     "metadata": {},
     "output_type": "execute_result"
    }
   ],
   "source": [
    "t_stn.head(5)"
   ]
  },
  {
   "cell_type": "code",
   "execution_count": 409,
   "metadata": {},
   "outputs": [
    {
     "data": {
      "text/plain": [
       "LinearRegression(copy_X=True, fit_intercept=True, n_jobs=1, normalize=False)"
      ]
     },
     "execution_count": 409,
     "metadata": {},
     "output_type": "execute_result"
    }
   ],
   "source": [
    "m3= LinearRegression()\n",
    "m3.fit(X=t_stn.iloc[:,9:].as_matrix(), y=t_stn.iloc[:,9].as_matrix(), sample_weight=weights.as_matrix())"
   ]
  },
  {
   "cell_type": "code",
   "execution_count": null,
   "metadata": {},
   "outputs": [],
   "source": []
  },
  {
   "cell_type": "code",
   "execution_count": 405,
   "metadata": {},
   "outputs": [],
   "source": [
    "fitted = m3.predict(t_stn.iloc[:,9:].as_matrix())"
   ]
  },
  {
   "cell_type": "code",
   "execution_count": 406,
   "metadata": {},
   "outputs": [],
   "source": [
    "residuals = (fitted - t_stn.iloc[:,9].as_matrix()).reshape([-1,1])"
   ]
  },
  {
   "cell_type": "code",
   "execution_count": 419,
   "metadata": {},
   "outputs": [
    {
     "name": "stderr",
     "output_type": "stream",
     "text": [
      "/home/tadeze/anaconda2/lib/python2.7/site-packages/ipykernel_launcher.py:1: RuntimeWarning: divide by zero encountered in log\n",
      "  \"\"\"Entry point for launching an IPython kernel.\n"
     ]
    },
    {
     "data": {
      "text/plain": [
       "<matplotlib.text.Text at 0x7f95a0539790>"
      ]
     },
     "execution_count": 419,
     "metadata": {},
     "output_type": "execute_result"
    },
    {
     "data": {
      "image/png": "[encoded data removed]",
      "text/plain": [
       "<matplotlib.figure.Figure at 0x7f95a05b98d0>"
      ]
     },
     "metadata": {},
     "output_type": "display_data"
    }
   ],
   "source": [
    "plt.scatter(t_stn.iloc[:,9], np.log(observed_value))\n",
    "plt.plot(t_stn.iloc[:,9], fitted,'-r')\n",
    "plt.xlabel('Log (predictor + eps)')\n",
    "plt.ylabel('Log (response + eps)')"
   ]
  },
  {
   "cell_type": "code",
   "execution_count": 426,
   "metadata": {},
   "outputs": [
    {
     "data": {
      "text/plain": [
       "<matplotlib.text.Text at 0x7f95a00e2610>"
      ]
     },
     "execution_count": 426,
     "metadata": {},
     "output_type": "execute_result"
    },
    {
     "data": {
      "image/png": "[encoded data removed]",
      "text/plain": [
       "<matplotlib.figure.Figure at 0x7f95a0c81ed0>"
      ]
     },
     "metadata": {},
     "output_type": "display_data"
    }
   ],
   "source": [
    "# Show fitted versus observed in original units\n",
    "plt.plot(np.exp(fitted - eps), observed_value, '.r')\n",
    "plt.ylabel('Predicted value')\n",
    "plt.xlabel(\"Averaged observed percipitation across neighbor\")\n",
    "\n",
    "#plot(exp(m3$fitted.values - eps), rain.df$KENT, xlab=\"Predicted KENT\", ylab = \"Observed KENT\")\n",
    "\n",
    "# And on a log scale\n",
    "#plot(m3$fitted.values, rain.df$LEKENT, xlab=\"Predicted log(KENT + epsilon)\", ylab = \"Observed log(KENT + epsilon)\")\n"
   ]
  },
  {
   "cell_type": "code",
   "execution_count": 442,
   "metadata": {},
   "outputs": [],
   "source": [
    "import scipy.stats as stat"
   ]
  },
  {
   "cell_type": "code",
   "execution_count": 446,
   "metadata": {},
   "outputs": [],
   "source": [
    "# compare the log-scale residuals\n",
    "xbar = np.mean(residuals)\n",
    "s = np.std(residuals)\n",
    "x = np.arange(-4, 4, 0.01)\n",
    "#normal= np.random.\n",
    "#plot(density(m3$residuals))\n",
    "#points(x, normal, pch=\".\", col=\"red\")\n",
    "nrm = stat.norm(xbar, s)\n",
    "d = nrm.pdf(x)"
   ]
  },
  {
   "cell_type": "code",
   "execution_count": 437,
   "metadata": {},
   "outputs": [],
   "source": [
    "d"
   ]
  },
  {
   "cell_type": "code",
   "execution_count": 340,
   "metadata": {},
   "outputs": [],
   "source": [
    "# Density of the residuals \n",
    "kde = KernelDensity(kernel='gaussian', bandwidth=0.25).fit(residuals)\n"
   ]
  },
  {
   "cell_type": "code",
   "execution_count": 345,
   "metadata": {},
   "outputs": [
    {
     "data": {
      "text/plain": [
       "<matplotlib.axes._subplots.AxesSubplot at 0x7f95a0e8b5d0>"
      ]
     },
     "execution_count": 345,
     "metadata": {},
     "output_type": "execute_result"
    },
    {
     "data": {
      "image/png": "[encoded data removed]",
      "text/plain": [
       "<matplotlib.figure.Figure at 0x7f95a6724dd0>"
      ]
     },
     "metadata": {},
     "output_type": "display_data"
    }
   ],
   "source": [
    "sbn.distplot(residuals,hist=False)"
   ]
  },
  {
   "cell_type": "markdown",
   "metadata": {},
   "source": [
    " Smear out the rain over multiple days.\n",
    " - flatline fault and percipitation. \n",
    " - K-windwos analysis... large "
   ]
  },
  {
   "cell_type": "code",
   "execution_count": 479,
   "metadata": {},
   "outputs": [],
   "source": [
    "def mixl(x, p1, preditions, kde):\n",
    "    result = (1-p1)*(observations==0) + \\\n",
    "    p1*kde.score_samples((predictions-np.log(observations + eps)))/abs(observations+eps)\n",
    "    return result"
   ]
  },
  {
   "cell_type": "code",
   "execution_count": null,
   "metadata": {},
   "outputs": [],
   "source": []
  },
  {
   "cell_type": "code",
   "execution_count": null,
   "metadata": {},
   "outputs": [],
   "source": [
    "# mixture likelihood\n",
    "mix.l <- function(observations, p1, predictions, d) {\n",
    "  # observations = rain.df$KENT\n",
    "  # p1: fitted values for the 0/1 model\n",
    "  # predictions: fitted values for the log(rain + epsilon) model\n",
    "  # residual density estimator (on log scale)\n",
    "  result <-   \n",
    "  (1-p1)* (observations==0) + \n",
    "      p1* density.evaluate(d, (predictions - log(observations + eps))) / abs(observations + eps)\n",
    "  return(result)\n",
    "}"
   ]
  },
  {
   "cell_type": "code",
   "execution_count": 38,
   "metadata": {},
   "outputs": [],
   "source": [
    "## Insert fault for the remaining days,, or may be for the 2017 data.. \n",
    "## Aggregate over $w$ windows. \n",
    "## Amount of rain,,prediction for the rainy period. \n",
    "# Measure the false alarm rate for the inserted fault..that could be the assignment for -- sure.  "
   ]
  },
  {
   "cell_type": "code",
   "execution_count": 39,
   "metadata": {},
   "outputs": [],
   "source": [
    "## Insert faults for the 2017 data. "
   ]
  },
  {
   "cell_type": "code",
   "execution_count": null,
   "metadata": {},
   "outputs": [],
   "source": []
  }
 ],
 "metadata": {
  "kernelspec": {
   "display_name": "Python 2",
   "language": "python",
   "name": "python2"
  },
  "language_info": {
   "codemirror_mode": {
    "name": "ipython",
    "version": 2
   },
   "file_extension": ".py",
   "mimetype": "text/x-python",
   "name": "python",
   "nbconvert_exporter": "python",
   "pygments_lexer": "ipython2",
   "version": "2.7.12"
  }
 },
 "nbformat": 4,
 "nbformat_minor": 2
}
