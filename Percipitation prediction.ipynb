{
 "cells": [
  {
   "cell_type": "code",
   "execution_count": 292,
   "metadata": {},
   "outputs": [],
   "source": [
    "## Map of the stations.. \n",
    "from mpl_toolkits.basemap import Basemap\n",
    "import matplotlib.pylab as plt\n",
    "%matplotlib inline \n",
    "import pandas as pd \n",
    "import numpy as np \n",
    "import statsmodels.api as st\n",
    "import seaborn as sbn \n",
    "from sklearn.linear_model import LinearRegression\n",
    "import sklearn.metrics as mt \n",
    "from sklearn.neighbors import KernelDensity"
   ]
  },
  {
   "cell_type": "code",
   "execution_count": 4,
   "metadata": {},
   "outputs": [],
   "source": [
    "## Load daily rainfall data\n",
    "allrain = pd.read_csv('gpm-tahmo-rain.csv')\n",
    "allrain.datetime = pd.to_datetime(allrain.datetime)\n",
    "tahmo = allrain[['station','year','datetime','tahmo']]"
   ]
  },
  {
   "cell_type": "code",
   "execution_count": 123,
   "metadata": {},
   "outputs": [],
   "source": [
    "def nearby_stations(site_code, k=10, radius=500):\n",
    "    \"\"\"\n",
    "    Return k-nearest stations. \n",
    "    \"\"\"\n",
    "    stations = pd.read_csv(\"nearest_stations.csv\")\n",
    "    k_nearest = stations[(stations['from'] == site_code) & (stations['distance'] < radius)]\n",
    "    k_nearest = k_nearest.sort_values(by=['distance', 'elevation'], ascending=True)[0:k]\n",
    "    \n",
    "    return k_nearest"
   ]
  },
  {
   "cell_type": "code",
   "execution_count": 124,
   "metadata": {},
   "outputs": [],
   "source": [
    "filter_stn = lambda stn_name, year: tahmo[(tahmo.station==stn_name) & (tahmo.year==year)] "
   ]
  },
  {
   "cell_type": "code",
   "execution_count": 126,
   "metadata": {},
   "outputs": [],
   "source": [
    "t_station = filter_stn(target_station, 2016)"
   ]
  },
  {
   "cell_type": "code",
   "execution_count": 141,
   "metadata": {},
   "outputs": [
    {
     "data": {
      "text/html": [
       "<div>\n",
       "<style scoped>\n",
       "    .dataframe tbody tr th:only-of-type {\n",
       "        vertical-align: middle;\n",
       "    }\n",
       "\n",
       "    .dataframe tbody tr th {\n",
       "        vertical-align: top;\n",
       "    }\n",
       "\n",
       "    .dataframe thead th {\n",
       "        text-align: right;\n",
       "    }\n",
       "</style>\n",
       "<table border=\"1\" class=\"dataframe\">\n",
       "  <thead>\n",
       "    <tr style=\"text-align: right;\">\n",
       "      <th></th>\n",
       "      <th>station</th>\n",
       "      <th>year</th>\n",
       "      <th>datetime</th>\n",
       "      <th>tahmo</th>\n",
       "    </tr>\n",
       "  </thead>\n",
       "  <tbody>\n",
       "    <tr>\n",
       "      <th>0</th>\n",
       "      <td>TA00020</td>\n",
       "      <td>2016</td>\n",
       "      <td>2016-01-01</td>\n",
       "      <td>0.0</td>\n",
       "    </tr>\n",
       "    <tr>\n",
       "      <th>1</th>\n",
       "      <td>TA00020</td>\n",
       "      <td>2016</td>\n",
       "      <td>2016-01-02</td>\n",
       "      <td>0.0</td>\n",
       "    </tr>\n",
       "    <tr>\n",
       "      <th>2</th>\n",
       "      <td>TA00020</td>\n",
       "      <td>2016</td>\n",
       "      <td>2016-01-03</td>\n",
       "      <td>0.0</td>\n",
       "    </tr>\n",
       "    <tr>\n",
       "      <th>3</th>\n",
       "      <td>TA00020</td>\n",
       "      <td>2016</td>\n",
       "      <td>2016-01-04</td>\n",
       "      <td>0.0</td>\n",
       "    </tr>\n",
       "    <tr>\n",
       "      <th>4</th>\n",
       "      <td>TA00020</td>\n",
       "      <td>2016</td>\n",
       "      <td>2016-01-05</td>\n",
       "      <td>0.0</td>\n",
       "    </tr>\n",
       "  </tbody>\n",
       "</table>\n",
       "</div>"
      ],
      "text/plain": [
       "   station  year   datetime  tahmo\n",
       "0  TA00020  2016 2016-01-01    0.0\n",
       "1  TA00020  2016 2016-01-02    0.0\n",
       "2  TA00020  2016 2016-01-03    0.0\n",
       "3  TA00020  2016 2016-01-04    0.0\n",
       "4  TA00020  2016 2016-01-05    0.0"
      ]
     },
     "execution_count": 141,
     "metadata": {},
     "output_type": "execute_result"
    }
   ],
   "source": [
    "tahmo.head(5)"
   ]
  },
  {
   "cell_type": "code",
   "execution_count": 188,
   "metadata": {},
   "outputs": [],
   "source": [
    "## K-nearest station \n",
    "def k_nearby_features(target_station, k=5, year=2016):\n",
    "    \"\"\"\n",
    "    Extract percipitation from k nearby stations. \n",
    "    \"\"\"\n",
    "    filter_stn = lambda stn_name, year: tahmo[(tahmo.station==stn_name) & (tahmo.year==year)] \n",
    "    t_station = filter_stn(target_station, year)\n",
    "    k_station = nearby_stations(site_code=target_station, k=k,radius=300).to.tolist()\n",
    "    X = t_station['tahmo'].as_matrix().reshape([-1,1])\n",
    "    datetime = t_station.datetime.tolist()\n",
    "    \n",
    "   # print datetime.shape\n",
    "    for stt in k_station:\n",
    "        R = filter_stn(stt,year)[['tahmo']].as_matrix().reshape([-1,1])\n",
    "        X = np.hstack([X,R])\n",
    "        \n",
    "    df = pd.concat([pd.DataFrame(datetime),pd.DataFrame(X)], axis=1)\n",
    "    df.columns = [\"datetime\",target_station] + k_station\n",
    "    \n",
    "    return df"
   ]
  },
  {
   "cell_type": "markdown",
   "metadata": {},
   "source": [
    "### Data exploratory "
   ]
  },
  {
   "cell_type": "markdown",
   "metadata": {},
   "source": [
    "Task:\n",
    "    - predict the percipitation at 3 station using nearyb stations. \n",
    "    - Target stations TA00025, TA00074 and TA00077"
   ]
  },
  {
   "cell_type": "code",
   "execution_count": 324,
   "metadata": {},
   "outputs": [],
   "source": [
    "## Target stations, TA0025, TA00077, TA00074 \n",
    "target_station = 'TA00025'\n",
    "t_stn = k_nearby_features(target_station)"
   ]
  },
  {
   "cell_type": "code",
   "execution_count": 325,
   "metadata": {},
   "outputs": [
    {
     "name": "stdout",
     "output_type": "stream",
     "text": [
      "<class 'pandas.core.frame.DataFrame'>\n",
      "RangeIndex: 366 entries, 0 to 365\n",
      "Data columns (total 7 columns):\n",
      "datetime    366 non-null datetime64[ns]\n",
      "TA00025     366 non-null float64\n",
      "TA00066     366 non-null float64\n",
      "TA00057     366 non-null float64\n",
      "TA00020     366 non-null float64\n",
      "TA00024     366 non-null float64\n",
      "TA00056     366 non-null float64\n",
      "dtypes: datetime64[ns](1), float64(6)\n",
      "memory usage: 20.1 KB\n"
     ]
    }
   ],
   "source": [
    "t_stn.info()"
   ]
  },
  {
   "cell_type": "code",
   "execution_count": 326,
   "metadata": {},
   "outputs": [
    {
     "data": {
      "text/html": [
       "<div>\n",
       "<style scoped>\n",
       "    .dataframe tbody tr th:only-of-type {\n",
       "        vertical-align: middle;\n",
       "    }\n",
       "\n",
       "    .dataframe tbody tr th {\n",
       "        vertical-align: top;\n",
       "    }\n",
       "\n",
       "    .dataframe thead th {\n",
       "        text-align: right;\n",
       "    }\n",
       "</style>\n",
       "<table border=\"1\" class=\"dataframe\">\n",
       "  <thead>\n",
       "    <tr style=\"text-align: right;\">\n",
       "      <th></th>\n",
       "      <th>datetime</th>\n",
       "      <th>TA00025</th>\n",
       "      <th>TA00066</th>\n",
       "      <th>TA00057</th>\n",
       "      <th>TA00020</th>\n",
       "      <th>TA00024</th>\n",
       "      <th>TA00056</th>\n",
       "    </tr>\n",
       "  </thead>\n",
       "  <tbody>\n",
       "    <tr>\n",
       "      <th>361</th>\n",
       "      <td>2016-12-27</td>\n",
       "      <td>0.06</td>\n",
       "      <td>0.0</td>\n",
       "      <td>0.44</td>\n",
       "      <td>0.10</td>\n",
       "      <td>0.66</td>\n",
       "      <td>0.0</td>\n",
       "    </tr>\n",
       "    <tr>\n",
       "      <th>362</th>\n",
       "      <td>2016-12-28</td>\n",
       "      <td>0.00</td>\n",
       "      <td>0.0</td>\n",
       "      <td>0.00</td>\n",
       "      <td>0.00</td>\n",
       "      <td>0.00</td>\n",
       "      <td>0.0</td>\n",
       "    </tr>\n",
       "    <tr>\n",
       "      <th>363</th>\n",
       "      <td>2016-12-29</td>\n",
       "      <td>0.14</td>\n",
       "      <td>0.0</td>\n",
       "      <td>0.00</td>\n",
       "      <td>0.00</td>\n",
       "      <td>0.00</td>\n",
       "      <td>0.0</td>\n",
       "    </tr>\n",
       "    <tr>\n",
       "      <th>364</th>\n",
       "      <td>2016-12-30</td>\n",
       "      <td>0.98</td>\n",
       "      <td>0.0</td>\n",
       "      <td>1.30</td>\n",
       "      <td>2.16</td>\n",
       "      <td>0.00</td>\n",
       "      <td>0.0</td>\n",
       "    </tr>\n",
       "    <tr>\n",
       "      <th>365</th>\n",
       "      <td>2016-12-31</td>\n",
       "      <td>0.00</td>\n",
       "      <td>0.0</td>\n",
       "      <td>0.08</td>\n",
       "      <td>0.14</td>\n",
       "      <td>0.00</td>\n",
       "      <td>0.0</td>\n",
       "    </tr>\n",
       "  </tbody>\n",
       "</table>\n",
       "</div>"
      ],
      "text/plain": [
       "      datetime  TA00025  TA00066  TA00057  TA00020  TA00024  TA00056\n",
       "361 2016-12-27     0.06      0.0     0.44     0.10     0.66      0.0\n",
       "362 2016-12-28     0.00      0.0     0.00     0.00     0.00      0.0\n",
       "363 2016-12-29     0.14      0.0     0.00     0.00     0.00      0.0\n",
       "364 2016-12-30     0.98      0.0     1.30     2.16     0.00      0.0\n",
       "365 2016-12-31     0.00      0.0     0.08     0.14     0.00      0.0"
      ]
     },
     "execution_count": 326,
     "metadata": {},
     "output_type": "execute_result"
    }
   ],
   "source": [
    "t_stn.tail(5)"
   ]
  },
  {
   "cell_type": "code",
   "execution_count": 311,
   "metadata": {},
   "outputs": [
    {
     "data": {
      "text/plain": [
       "<matplotlib.text.Text at 0x7f95a85c0d50>"
      ]
     },
     "execution_count": 311,
     "metadata": {},
     "output_type": "execute_result"
    },
    {
     "data": {
      "image/png": "[encoded data removed]",
      "text/plain": [
       "<matplotlib.figure.Figure at 0x7f95a65e60d0>"
      ]
     },
     "metadata": {},
     "output_type": "display_data"
    }
   ],
   "source": [
    "plt.plot(t_stn.datetime, t_stn[target_station],'-b')\n",
    "#for ostn in t_stn.columns[2:]:\n",
    "#    plt.plot(t_stn.datetime, t_stn[ostn])\n",
    "plt.ylabel(\"Daily percipitation at TA00025 in (mm)\")\n",
    "plt.xlabel(\"Days of the year\")"
   ]
  },
  {
   "cell_type": "markdown",
   "metadata": {},
   "source": [
    "Histogram of non-zero percipitation at target station "
   ]
  },
  {
   "cell_type": "code",
   "execution_count": 312,
   "metadata": {},
   "outputs": [],
   "source": [
    "t_nonzero_perp = np.log(t_stn[t_stn[target_station]>0][target_station])"
   ]
  },
  {
   "cell_type": "code",
   "execution_count": 328,
   "metadata": {},
   "outputs": [
    {
     "data": {
      "text/plain": [
       "<matplotlib.axes._subplots.AxesSubplot at 0x7f95a5e97bd0>"
      ]
     },
     "execution_count": 328,
     "metadata": {},
     "output_type": "execute_result"
    },
    {
     "data": {
      "image/png": "[encoded data removed]",
      "text/plain": [
       "<matplotlib.figure.Figure at 0x7f95a66541d0>"
      ]
     },
     "metadata": {},
     "output_type": "display_data"
    }
   ],
   "source": [
    "sbn.kdeplot(t_nonzero_perp, shade=False)"
   ]
  },
  {
   "cell_type": "code",
   "execution_count": 196,
   "metadata": {},
   "outputs": [
    {
     "data": {
      "image/png": "[encoded data removed]",
      "text/plain": [
       "<matplotlib.figure.Figure at 0x7f95a7d45090>"
      ]
     },
     "metadata": {},
     "output_type": "display_data"
    }
   ],
   "source": [
    "sbn.distplot(t_nonzero_perp, hist=True);"
   ]
  },
  {
   "cell_type": "markdown",
   "metadata": {},
   "source": [
    "Fit logistic regression for rain response. "
   ]
  },
  {
   "cell_type": "code",
   "execution_count": 313,
   "metadata": {},
   "outputs": [],
   "source": [
    "t_stn['rain_yes'] = (t_stn[target_station]>0).astype(int)"
   ]
  },
  {
   "cell_type": "code",
   "execution_count": 206,
   "metadata": {},
   "outputs": [
    {
     "data": {
      "text/html": [
       "<div>\n",
       "<style scoped>\n",
       "    .dataframe tbody tr th:only-of-type {\n",
       "        vertical-align: middle;\n",
       "    }\n",
       "\n",
       "    .dataframe tbody tr th {\n",
       "        vertical-align: top;\n",
       "    }\n",
       "\n",
       "    .dataframe thead th {\n",
       "        text-align: right;\n",
       "    }\n",
       "</style>\n",
       "<table border=\"1\" class=\"dataframe\">\n",
       "  <thead>\n",
       "    <tr style=\"text-align: right;\">\n",
       "      <th></th>\n",
       "      <th>datetime</th>\n",
       "      <th>TA00025</th>\n",
       "      <th>TA00066</th>\n",
       "      <th>TA00057</th>\n",
       "      <th>TA00020</th>\n",
       "      <th>TA00024</th>\n",
       "      <th>TA00056</th>\n",
       "      <th>rain_yes</th>\n",
       "    </tr>\n",
       "  </thead>\n",
       "  <tbody>\n",
       "    <tr>\n",
       "      <th>0</th>\n",
       "      <td>2016-01-01</td>\n",
       "      <td>0.14</td>\n",
       "      <td>0.20</td>\n",
       "      <td>0.04</td>\n",
       "      <td>0.0</td>\n",
       "      <td>0.16</td>\n",
       "      <td>0.00</td>\n",
       "      <td>1</td>\n",
       "    </tr>\n",
       "    <tr>\n",
       "      <th>1</th>\n",
       "      <td>2016-01-02</td>\n",
       "      <td>0.04</td>\n",
       "      <td>0.08</td>\n",
       "      <td>0.00</td>\n",
       "      <td>0.0</td>\n",
       "      <td>0.18</td>\n",
       "      <td>0.00</td>\n",
       "      <td>1</td>\n",
       "    </tr>\n",
       "    <tr>\n",
       "      <th>2</th>\n",
       "      <td>2016-01-03</td>\n",
       "      <td>0.08</td>\n",
       "      <td>0.00</td>\n",
       "      <td>0.04</td>\n",
       "      <td>0.0</td>\n",
       "      <td>0.14</td>\n",
       "      <td>0.00</td>\n",
       "      <td>1</td>\n",
       "    </tr>\n",
       "    <tr>\n",
       "      <th>3</th>\n",
       "      <td>2016-01-04</td>\n",
       "      <td>3.64</td>\n",
       "      <td>4.39</td>\n",
       "      <td>16.49</td>\n",
       "      <td>0.0</td>\n",
       "      <td>7.49</td>\n",
       "      <td>30.89</td>\n",
       "      <td>1</td>\n",
       "    </tr>\n",
       "    <tr>\n",
       "      <th>4</th>\n",
       "      <td>2016-01-05</td>\n",
       "      <td>0.77</td>\n",
       "      <td>0.48</td>\n",
       "      <td>0.95</td>\n",
       "      <td>0.0</td>\n",
       "      <td>0.88</td>\n",
       "      <td>4.16</td>\n",
       "      <td>1</td>\n",
       "    </tr>\n",
       "  </tbody>\n",
       "</table>\n",
       "</div>"
      ],
      "text/plain": [
       "    datetime  TA00025  TA00066  TA00057  TA00020  TA00024  TA00056  rain_yes\n",
       "0 2016-01-01     0.14     0.20     0.04      0.0     0.16     0.00         1\n",
       "1 2016-01-02     0.04     0.08     0.00      0.0     0.18     0.00         1\n",
       "2 2016-01-03     0.08     0.00     0.04      0.0     0.14     0.00         1\n",
       "3 2016-01-04     3.64     4.39    16.49      0.0     7.49    30.89         1\n",
       "4 2016-01-05     0.77     0.48     0.95      0.0     0.88     4.16         1"
      ]
     },
     "execution_count": 206,
     "metadata": {},
     "output_type": "execute_result"
    }
   ],
   "source": [
    "t_stn.head(5)"
   ]
  },
  {
   "cell_type": "code",
   "execution_count": 207,
   "metadata": {},
   "outputs": [],
   "source": [
    "import statsmodels.formula.api as sfa"
   ]
  },
  {
   "cell_type": "code",
   "execution_count": 208,
   "metadata": {},
   "outputs": [],
   "source": [
    "formula = \"rain_yes~TA00066+TA00057+TA00020+TA00024+TA00056\""
   ]
  },
  {
   "cell_type": "code",
   "execution_count": 314,
   "metadata": {},
   "outputs": [],
   "source": [
    "m2 = sfa.glm(family=st.families.Binomial(st.families.links.logit), formula=formula, data=t_stn).fit()"
   ]
  },
  {
   "cell_type": "code",
   "execution_count": 253,
   "metadata": {},
   "outputs": [
    {
     "data": {
      "text/html": [
       "<table class=\"simpletable\">\n",
       "<caption>Generalized Linear Model Regression Results</caption>\n",
       "<tr>\n",
       "  <th>Dep. Variable:</th>      <td>rain_yes</td>     <th>  No. Observations:  </th>  <td>   366</td> \n",
       "</tr>\n",
       "<tr>\n",
       "  <th>Model:</th>                 <td>GLM</td>       <th>  Df Residuals:      </th>  <td>   360</td> \n",
       "</tr>\n",
       "<tr>\n",
       "  <th>Model Family:</th>       <td>Binomial</td>     <th>  Df Model:          </th>  <td>     5</td> \n",
       "</tr>\n",
       "<tr>\n",
       "  <th>Link Function:</th>        <td>logit</td>      <th>  Scale:             </th>    <td>1.0</td>  \n",
       "</tr>\n",
       "<tr>\n",
       "  <th>Method:</th>               <td>IRLS</td>       <th>  Log-Likelihood:    </th> <td>     nan</td>\n",
       "</tr>\n",
       "<tr>\n",
       "  <th>Date:</th>           <td>Wed, 23 May 2018</td> <th>  Deviance:          </th> <td>  363.65</td>\n",
       "</tr>\n",
       "<tr>\n",
       "  <th>Time:</th>               <td>10:18:52</td>     <th>  Pearson chi2:      </th>  <td>  328.</td> \n",
       "</tr>\n",
       "<tr>\n",
       "  <th>No. Iterations:</th>        <td>11</td>        <th>                     </th>     <td> </td>   \n",
       "</tr>\n",
       "</table>\n",
       "<table class=\"simpletable\">\n",
       "<tr>\n",
       "      <td></td>         <th>coef</th>     <th>std err</th>      <th>z</th>      <th>P>|z|</th>  <th>[0.025</th>    <th>0.975]</th>  \n",
       "</tr>\n",
       "<tr>\n",
       "  <th>Intercept</th> <td>   -0.8638</td> <td>    0.146</td> <td>   -5.932</td> <td> 0.000</td> <td>   -1.149</td> <td>   -0.578</td>\n",
       "</tr>\n",
       "<tr>\n",
       "  <th>TA00066</th>   <td>    1.4307</td> <td>    0.597</td> <td>    2.396</td> <td> 0.017</td> <td>    0.260</td> <td>    2.601</td>\n",
       "</tr>\n",
       "<tr>\n",
       "  <th>TA00057</th>   <td>    1.4002</td> <td>    0.467</td> <td>    3.001</td> <td> 0.003</td> <td>    0.486</td> <td>    2.315</td>\n",
       "</tr>\n",
       "<tr>\n",
       "  <th>TA00020</th>   <td>    0.0106</td> <td>    0.073</td> <td>    0.144</td> <td> 0.885</td> <td>   -0.133</td> <td>    0.154</td>\n",
       "</tr>\n",
       "<tr>\n",
       "  <th>TA00024</th>   <td>    1.3076</td> <td>    0.566</td> <td>    2.308</td> <td> 0.021</td> <td>    0.197</td> <td>    2.418</td>\n",
       "</tr>\n",
       "<tr>\n",
       "  <th>TA00056</th>   <td>    0.0098</td> <td>    0.040</td> <td>    0.241</td> <td> 0.809</td> <td>   -0.069</td> <td>    0.089</td>\n",
       "</tr>\n",
       "</table>"
      ],
      "text/plain": [
       "<class 'statsmodels.iolib.summary.Summary'>\n",
       "\"\"\"\n",
       "                 Generalized Linear Model Regression Results                  \n",
       "==============================================================================\n",
       "Dep. Variable:               rain_yes   No. Observations:                  366\n",
       "Model:                            GLM   Df Residuals:                      360\n",
       "Model Family:                Binomial   Df Model:                            5\n",
       "Link Function:                  logit   Scale:                             1.0\n",
       "Method:                          IRLS   Log-Likelihood:                    nan\n",
       "Date:                Wed, 23 May 2018   Deviance:                       363.65\n",
       "Time:                        10:18:52   Pearson chi2:                     328.\n",
       "No. Iterations:                    11                                         \n",
       "==============================================================================\n",
       "                 coef    std err          z      P>|z|      [0.025      0.975]\n",
       "------------------------------------------------------------------------------\n",
       "Intercept     -0.8638      0.146     -5.932      0.000      -1.149      -0.578\n",
       "TA00066        1.4307      0.597      2.396      0.017       0.260       2.601\n",
       "TA00057        1.4002      0.467      3.001      0.003       0.486       2.315\n",
       "TA00020        0.0106      0.073      0.144      0.885      -0.133       0.154\n",
       "TA00024        1.3076      0.566      2.308      0.021       0.197       2.418\n",
       "TA00056        0.0098      0.040      0.241      0.809      -0.069       0.089\n",
       "==============================================================================\n",
       "\"\"\""
      ]
     },
     "execution_count": 253,
     "metadata": {},
     "output_type": "execute_result"
    }
   ],
   "source": [
    "m2.summary()"
   ]
  },
  {
   "cell_type": "code",
   "execution_count": 315,
   "metadata": {},
   "outputs": [],
   "source": [
    "i = np.argsort(m2.fittedvalues).tolist()"
   ]
  },
  {
   "cell_type": "code",
   "execution_count": 316,
   "metadata": {},
   "outputs": [
    {
     "data": {
      "text/plain": [
       "<matplotlib.collections.PathCollection at 0x7f95a6710d90>"
      ]
     },
     "execution_count": 316,
     "metadata": {},
     "output_type": "execute_result"
    },
    {
     "data": {
      "image/png": "[encoded data removed]",
      "text/plain": [
       "<matplotlib.figure.Figure at 0x7f95a6899190>"
      ]
     },
     "metadata": {},
     "output_type": "display_data"
    }
   ],
   "source": [
    "plt.scatter(t_stn[target_station][i],t_stn['rain_yes'][i])\n",
    "plt.scatter(t_stn[target_station][i], m2.fittedvalues[i],facecolor='none',edgecolors='r')\n",
    "## x-axsi k-station average. "
   ]
  },
  {
   "cell_type": "code",
   "execution_count": 317,
   "metadata": {},
   "outputs": [],
   "source": [
    "pp = m2.fittedvalues\n",
    "ll = t_stn['rain_yes']\n",
    "fpr_rt_lm, tpr_rt_lm, _ = mt.roc_curve( ll, pp)\n",
    "auc_score = mt.auc(fpr_rt_lm, tpr_rt_lm, reorder=True)"
   ]
  },
  {
   "cell_type": "code",
   "execution_count": 318,
   "metadata": {},
   "outputs": [
    {
     "data": {
      "text/plain": [
       "0.8654592689918776"
      ]
     },
     "execution_count": 318,
     "metadata": {},
     "output_type": "execute_result"
    }
   ],
   "source": [
    "auc_score"
   ]
  },
  {
   "cell_type": "code",
   "execution_count": 319,
   "metadata": {},
   "outputs": [
    {
     "data": {
      "text/plain": [
       "<matplotlib.legend.Legend at 0x7f95a6773dd0>"
      ]
     },
     "execution_count": 319,
     "metadata": {},
     "output_type": "execute_result"
    },
    {
     "data": {
      "image/png": "[encoded data removed]",
      "text/plain": [
       "<matplotlib.figure.Figure at 0x7f95a7dae710>"
      ]
     },
     "metadata": {},
     "output_type": "display_data"
    }
   ],
   "source": [
    "plt.clf()\n",
    "plt.plot(fpr_rt_lm, tpr_rt_lm, label='ROC curve')\n",
    "plt.ylabel(\"tpr\")\n",
    "plt.xlabel(\"fpr\")\n",
    "plt.plot(range(0,2),range(0,2),'-r')\n",
    "plt.text(0.6, 0.2,\"auc=\"+str(auc_score))\n",
    "plt.legend(loc='best')\n"
   ]
  },
  {
   "cell_type": "code",
   "execution_count": 240,
   "metadata": {},
   "outputs": [],
   "source": [
    "##  Use the m2 predictiosn for probability of rain as the weights in fitting the linear model. "
   ]
  },
  {
   "cell_type": "code",
   "execution_count": 320,
   "metadata": {},
   "outputs": [],
   "source": [
    "eps = .1\n",
    "weights = m2.fittedvalues\n",
    "for cln in t_stn.columns[1:-1]:\n",
    "    t_stn['l'+cln] = np.log(t_stn[cln] + eps)"
   ]
  },
  {
   "cell_type": "code",
   "execution_count": 321,
   "metadata": {},
   "outputs": [
    {
     "data": {
      "text/html": [
       "<div>\n",
       "<style scoped>\n",
       "    .dataframe tbody tr th:only-of-type {\n",
       "        vertical-align: middle;\n",
       "    }\n",
       "\n",
       "    .dataframe tbody tr th {\n",
       "        vertical-align: top;\n",
       "    }\n",
       "\n",
       "    .dataframe thead th {\n",
       "        text-align: right;\n",
       "    }\n",
       "</style>\n",
       "<table border=\"1\" class=\"dataframe\">\n",
       "  <thead>\n",
       "    <tr style=\"text-align: right;\">\n",
       "      <th></th>\n",
       "      <th>datetime</th>\n",
       "      <th>TA00025</th>\n",
       "      <th>TA00066</th>\n",
       "      <th>TA00057</th>\n",
       "      <th>TA00020</th>\n",
       "      <th>TA00024</th>\n",
       "      <th>TA00056</th>\n",
       "      <th>rain_yes</th>\n",
       "      <th>lTA00025</th>\n",
       "      <th>lTA00066</th>\n",
       "      <th>lTA00057</th>\n",
       "      <th>lTA00020</th>\n",
       "      <th>lTA00024</th>\n",
       "      <th>lTA00056</th>\n",
       "    </tr>\n",
       "  </thead>\n",
       "  <tbody>\n",
       "    <tr>\n",
       "      <th>0</th>\n",
       "      <td>2016-01-01</td>\n",
       "      <td>0.14</td>\n",
       "      <td>0.20</td>\n",
       "      <td>0.04</td>\n",
       "      <td>0.0</td>\n",
       "      <td>0.16</td>\n",
       "      <td>0.00</td>\n",
       "      <td>1</td>\n",
       "      <td>-1.427116</td>\n",
       "      <td>-1.203973</td>\n",
       "      <td>-1.966113</td>\n",
       "      <td>-2.302585</td>\n",
       "      <td>-1.347074</td>\n",
       "      <td>-2.302585</td>\n",
       "    </tr>\n",
       "    <tr>\n",
       "      <th>1</th>\n",
       "      <td>2016-01-02</td>\n",
       "      <td>0.04</td>\n",
       "      <td>0.08</td>\n",
       "      <td>0.00</td>\n",
       "      <td>0.0</td>\n",
       "      <td>0.18</td>\n",
       "      <td>0.00</td>\n",
       "      <td>1</td>\n",
       "      <td>-1.966113</td>\n",
       "      <td>-1.714798</td>\n",
       "      <td>-2.302585</td>\n",
       "      <td>-2.302585</td>\n",
       "      <td>-1.272966</td>\n",
       "      <td>-2.302585</td>\n",
       "    </tr>\n",
       "    <tr>\n",
       "      <th>2</th>\n",
       "      <td>2016-01-03</td>\n",
       "      <td>0.08</td>\n",
       "      <td>0.00</td>\n",
       "      <td>0.04</td>\n",
       "      <td>0.0</td>\n",
       "      <td>0.14</td>\n",
       "      <td>0.00</td>\n",
       "      <td>1</td>\n",
       "      <td>-1.714798</td>\n",
       "      <td>-2.302585</td>\n",
       "      <td>-1.966113</td>\n",
       "      <td>-2.302585</td>\n",
       "      <td>-1.427116</td>\n",
       "      <td>-2.302585</td>\n",
       "    </tr>\n",
       "    <tr>\n",
       "      <th>3</th>\n",
       "      <td>2016-01-04</td>\n",
       "      <td>3.64</td>\n",
       "      <td>4.39</td>\n",
       "      <td>16.49</td>\n",
       "      <td>0.0</td>\n",
       "      <td>7.49</td>\n",
       "      <td>30.89</td>\n",
       "      <td>1</td>\n",
       "      <td>1.319086</td>\n",
       "      <td>1.501853</td>\n",
       "      <td>2.808800</td>\n",
       "      <td>-2.302585</td>\n",
       "      <td>2.026832</td>\n",
       "      <td>3.433665</td>\n",
       "    </tr>\n",
       "    <tr>\n",
       "      <th>4</th>\n",
       "      <td>2016-01-05</td>\n",
       "      <td>0.77</td>\n",
       "      <td>0.48</td>\n",
       "      <td>0.95</td>\n",
       "      <td>0.0</td>\n",
       "      <td>0.88</td>\n",
       "      <td>4.16</td>\n",
       "      <td>1</td>\n",
       "      <td>-0.139262</td>\n",
       "      <td>-0.544727</td>\n",
       "      <td>0.048790</td>\n",
       "      <td>-2.302585</td>\n",
       "      <td>-0.020203</td>\n",
       "      <td>1.449269</td>\n",
       "    </tr>\n",
       "  </tbody>\n",
       "</table>\n",
       "</div>"
      ],
      "text/plain": [
       "    datetime  TA00025  TA00066  TA00057  TA00020  TA00024  TA00056  rain_yes  \\\n",
       "0 2016-01-01     0.14     0.20     0.04      0.0     0.16     0.00         1   \n",
       "1 2016-01-02     0.04     0.08     0.00      0.0     0.18     0.00         1   \n",
       "2 2016-01-03     0.08     0.00     0.04      0.0     0.14     0.00         1   \n",
       "3 2016-01-04     3.64     4.39    16.49      0.0     7.49    30.89         1   \n",
       "4 2016-01-05     0.77     0.48     0.95      0.0     0.88     4.16         1   \n",
       "\n",
       "   lTA00025  lTA00066  lTA00057  lTA00020  lTA00024  lTA00056  \n",
       "0 -1.427116 -1.203973 -1.966113 -2.302585 -1.347074 -2.302585  \n",
       "1 -1.966113 -1.714798 -2.302585 -2.302585 -1.272966 -2.302585  \n",
       "2 -1.714798 -2.302585 -1.966113 -2.302585 -1.427116 -2.302585  \n",
       "3  1.319086  1.501853  2.808800 -2.302585  2.026832  3.433665  \n",
       "4 -0.139262 -0.544727  0.048790 -2.302585 -0.020203  1.449269  "
      ]
     },
     "execution_count": 321,
     "metadata": {},
     "output_type": "execute_result"
    }
   ],
   "source": [
    "t_stn.head(5)"
   ]
  },
  {
   "cell_type": "code",
   "execution_count": 322,
   "metadata": {},
   "outputs": [
    {
     "data": {
      "text/plain": [
       "LinearRegression(copy_X=True, fit_intercept=True, n_jobs=1, normalize=False)"
      ]
     },
     "execution_count": 322,
     "metadata": {},
     "output_type": "execute_result"
    }
   ],
   "source": [
    "m3= LinearRegression()\n",
    "m3.fit(X=t_stn.iloc[:,9:].as_matrix(), y=t_stn.iloc[:,9].as_matrix(), sample_weight=weights.as_matrix())"
   ]
  },
  {
   "cell_type": "code",
   "execution_count": 296,
   "metadata": {},
   "outputs": [],
   "source": [
    "residuals = (m3.predict(t_stn.iloc[:,9:].as_matrix()) - t_stn.iloc[:,9].as_matrix()).reshape([-1,1])"
   ]
  },
  {
   "cell_type": "code",
   "execution_count": 304,
   "metadata": {},
   "outputs": [],
   "source": [
    "# Density of the residuals \n",
    "kde = KernelDensity(kernel='gaussian', bandwidth=0.25).fit(residuals)\n"
   ]
  },
  {
   "cell_type": "code",
   "execution_count": 329,
   "metadata": {},
   "outputs": [
    {
     "ename": "ValueError",
     "evalue": "need more than 1 value to unpack",
     "output_type": "error",
     "traceback": [
      "\u001b[0;31m---------------------------------------------------------------------------\u001b[0m",
      "\u001b[0;31mValueError\u001b[0m                                Traceback (most recent call last)",
      "\u001b[0;32m<ipython-input-329-97b8551dfcf2>\u001b[0m in \u001b[0;36m<module>\u001b[0;34m()\u001b[0m\n\u001b[0;32m----> 1\u001b[0;31m \u001b[0msbn\u001b[0m\u001b[0;34m.\u001b[0m\u001b[0mkdeplot\u001b[0m\u001b[0;34m(\u001b[0m\u001b[0mresiduals\u001b[0m\u001b[0;34m)\u001b[0m\u001b[0;34m\u001b[0m\u001b[0m\n\u001b[0m",
      "\u001b[0;32m/home/tadeze/anaconda2/lib/python2.7/site-packages/seaborn/distributions.pyc\u001b[0m in \u001b[0;36mkdeplot\u001b[0;34m(data, data2, shade, vertical, kernel, bw, gridsize, cut, clip, legend, cumulative, shade_lowest, ax, **kwargs)\u001b[0m\n\u001b[1;32m    582\u001b[0m     \u001b[0;32mif\u001b[0m \u001b[0misinstance\u001b[0m\u001b[0;34m(\u001b[0m\u001b[0mdata\u001b[0m\u001b[0;34m,\u001b[0m \u001b[0mnp\u001b[0m\u001b[0;34m.\u001b[0m\u001b[0mndarray\u001b[0m\u001b[0;34m)\u001b[0m \u001b[0;32mand\u001b[0m \u001b[0mnp\u001b[0m\u001b[0;34m.\u001b[0m\u001b[0mndim\u001b[0m\u001b[0;34m(\u001b[0m\u001b[0mdata\u001b[0m\u001b[0;34m)\u001b[0m \u001b[0;34m>\u001b[0m \u001b[0;36m1\u001b[0m\u001b[0;34m:\u001b[0m\u001b[0;34m\u001b[0m\u001b[0m\n\u001b[1;32m    583\u001b[0m         \u001b[0mbivariate\u001b[0m \u001b[0;34m=\u001b[0m \u001b[0mTrue\u001b[0m\u001b[0;34m\u001b[0m\u001b[0m\n\u001b[0;32m--> 584\u001b[0;31m         \u001b[0mx\u001b[0m\u001b[0;34m,\u001b[0m \u001b[0my\u001b[0m \u001b[0;34m=\u001b[0m \u001b[0mdata\u001b[0m\u001b[0;34m.\u001b[0m\u001b[0mT\u001b[0m\u001b[0;34m\u001b[0m\u001b[0m\n\u001b[0m\u001b[1;32m    585\u001b[0m     \u001b[0;32melif\u001b[0m \u001b[0misinstance\u001b[0m\u001b[0;34m(\u001b[0m\u001b[0mdata\u001b[0m\u001b[0;34m,\u001b[0m \u001b[0mpd\u001b[0m\u001b[0;34m.\u001b[0m\u001b[0mDataFrame\u001b[0m\u001b[0;34m)\u001b[0m \u001b[0;32mand\u001b[0m \u001b[0mnp\u001b[0m\u001b[0;34m.\u001b[0m\u001b[0mndim\u001b[0m\u001b[0;34m(\u001b[0m\u001b[0mdata\u001b[0m\u001b[0;34m)\u001b[0m \u001b[0;34m>\u001b[0m \u001b[0;36m1\u001b[0m\u001b[0;34m:\u001b[0m\u001b[0;34m\u001b[0m\u001b[0m\n\u001b[1;32m    586\u001b[0m         \u001b[0mbivariate\u001b[0m \u001b[0;34m=\u001b[0m \u001b[0mTrue\u001b[0m\u001b[0;34m\u001b[0m\u001b[0m\n",
      "\u001b[0;31mValueError\u001b[0m: need more than 1 value to unpack"
     ]
    },
    {
     "data": {
      "image/png": "[encoded data removed]",
      "text/plain": [
       "<matplotlib.figure.Figure at 0x7f95a5f28310>"
      ]
     },
     "metadata": {},
     "output_type": "display_data"
    }
   ],
   "source": [
    "sbn.kdeplot(residuals)"
   ]
  },
  {
   "cell_type": "markdown",
   "metadata": {},
   "source": [
    " Smear out the rain over multiple days.\n",
    " - flatline fault and percipitation. \n",
    " - K-windwos analysis... large "
   ]
  },
  {
   "cell_type": "code",
   "execution_count": null,
   "metadata": {},
   "outputs": [],
   "source": [
    "## Insert fault for the remaining days,, or may be for the 2017 data.. \n",
    "## Aggregate over $w$ windows. \n",
    "## Amount of rain,,prediction for the rainy period. \n",
    "# Measure the false alarm rate for the inserted fault..that could be the assignment for -- sure.  "
   ]
  }
 ],
 "metadata": {
  "kernelspec": {
   "display_name": "Python 2",
   "language": "python",
   "name": "python2"
  },
  "language_info": {
   "codemirror_mode": {
    "name": "ipython",
    "version": 2
   },
   "file_extension": ".py",
   "mimetype": "text/x-python",
   "name": "python",
   "nbconvert_exporter": "python",
   "pygments_lexer": "ipython2",
   "version": "2.7.12"
  }
 },
 "nbformat": 4,
 "nbformat_minor": 2
}
