{
 "cells": [
  {
   "cell_type": "markdown",
   "metadata": {},
   "source": [
    "# Hands on exercise on TAHMO data"
   ]
  },
  {
   "cell_type": "markdown",
   "metadata": {},
   "source": [
    "Outline\n",
    "---------\n",
    "- Dataset description and picture map. \n",
    "- Feature extraction step \n",
    "- Model construction \n"
   ]
  },
  {
   "cell_type": "markdown",
   "metadata": {},
   "source": [
    "<h2>Introduction</h2>\n",
    "\n",
    "<img src=images/allafrica.png width=75%>\n",
    "\n",
    "Stations located in Kenya. \n",
    "\n",
    "<img src=images/target-stations.png width=75%>\n",
    "\n",
    "<h3>The TAHMO stations</h3>\n",
    "\n",
    "<h3>Dataset</h3>\n",
    "\n",
    "The data is a time series of weather sensor readings, consisting of different physical variables on a regular grid on the Earth, indexed by lon(gitude) and lat(itude) coordinates. The variables we have made available are: \n",
    "<ul>\n",
    "<li>rain --- Percipitation. \n",
    "<li>te --- air temperature. \n",
    "<li>rh --- relative humidity. \n",
    "<li>wsd --- wind speed. \n",
    "<li>wsg --- wind gust. \n",
    "<li>pres --- surface pressure.\n",
    "<li>rad --- Solar radiation. \n",
    "</ul>\n",
    " \n",
    "The fields are recorded every 5 minutes for two years from 2016-2017. The dataset is observation averaged on hour scale. \n",
    "\n",
    "\n",
    "### Station description\n",
    "\n",
    " - from: Station id\n",
    " - to: Station id \n",
    " - distance (km): distance between stations.  \n",
    " - elevation (m) : Elevation difference between from & to station. \n",
    "\n",
    "<h3>The prediction task</h3>\n",
    " - Predict whether it rains or not.\n",
    " - Predict the amount of rain for the rainy period. \n",
    "\n"
   ]
  },
  {
   "cell_type": "code",
   "execution_count": 4,
   "metadata": {},
   "outputs": [],
   "source": [
    "## Map of the stations.. \n",
    "from mpl_toolkits.basemap import Basemap\n",
    "import matplotlib.pylab as plt\n",
    "%matplotlib inline \n",
    "import pandas as pd \n",
    "import numpy as np "
   ]
  },
  {
   "cell_type": "code",
   "execution_count": 76,
   "metadata": {},
   "outputs": [],
   "source": [
    "import math\n",
    "def haversine_distance(lat1, lon1, lat2, lon2):\n",
    "    \"\"\"\n",
    "    Distance between two geographical location. \n",
    "    args:\n",
    "        lat1: latitude of station 1\n",
    "        lon1: longtitude of station 1\n",
    "        lat2: latitude of station 2\n",
    "        lon2: longtitude of station2\n",
    "    \"\"\"\n",
    "    \n",
    "    earth_radius = 6371.16\n",
    "    deg2rad = lambda deg: deg*math.pi/180\n",
    "    dlat = deg2rad(lat2 - lat1)\n",
    "    dlon = deg2rad(lon2 - lon1)\n",
    "    a = math.sin(dlat / 2) * math.sin(dlat / 2) + math.cos(deg2rad(lat1)) * \\\n",
    "    math.cos(deg2rad(lat2)) * math.sin(dlon / 2) * math.sin(dlon / 2)\n",
    "    c = 2 * math.atan2(math.sqrt(a), math.sqrt(1-a))\n",
    "    d = earth_radius * c #// Distance in km\n",
    "    return d\n"
   ]
  },
  {
   "cell_type": "code",
   "execution_count": 88,
   "metadata": {},
   "outputs": [],
   "source": [
    "def nearby_stations(site_code, k=10, radius=100):\n",
    "    \"\"\"\n",
    "    Return k-nearest stations. \n",
    "    \"\"\"\n",
    "    stations = pd.read_csv(\"nearest_stations.csv\")\n",
    "    k_nearest = stations[(stations['from'] == site_code) & (stations['distance'] < radius)]\n",
    "    k_nearest = k_nearest.sort_values(by=['distance', 'elevation'], ascending=True)[0:k]\n",
    "    \n",
    "    return k_nearest"
   ]
  },
  {
   "cell_type": "code",
   "execution_count": 103,
   "metadata": {},
   "outputs": [
    {
     "data": {
      "text/html": [
       "<div>\n",
       "<style scoped>\n",
       "    .dataframe tbody tr th:only-of-type {\n",
       "        vertical-align: middle;\n",
       "    }\n",
       "\n",
       "    .dataframe tbody tr th {\n",
       "        vertical-align: top;\n",
       "    }\n",
       "\n",
       "    .dataframe thead th {\n",
       "        text-align: right;\n",
       "    }\n",
       "</style>\n",
       "<table border=\"1\" class=\"dataframe\">\n",
       "  <thead>\n",
       "    <tr style=\"text-align: right;\">\n",
       "      <th></th>\n",
       "      <th>distance</th>\n",
       "      <th>elevation</th>\n",
       "      <th>from</th>\n",
       "      <th>to</th>\n",
       "    </tr>\n",
       "  </thead>\n",
       "  <tbody>\n",
       "    <tr>\n",
       "      <th>3</th>\n",
       "      <td>40.705243</td>\n",
       "      <td>-155</td>\n",
       "      <td>TA00020</td>\n",
       "      <td>TA00025</td>\n",
       "    </tr>\n",
       "    <tr>\n",
       "      <th>11</th>\n",
       "      <td>44.519409</td>\n",
       "      <td>7</td>\n",
       "      <td>TA00020</td>\n",
       "      <td>TA00057</td>\n",
       "    </tr>\n",
       "    <tr>\n",
       "      <th>15</th>\n",
       "      <td>48.530912</td>\n",
       "      <td>-353</td>\n",
       "      <td>TA00020</td>\n",
       "      <td>TA00066</td>\n",
       "    </tr>\n",
       "    <tr>\n",
       "      <th>2</th>\n",
       "      <td>67.805403</td>\n",
       "      <td>123</td>\n",
       "      <td>TA00020</td>\n",
       "      <td>TA00024</td>\n",
       "    </tr>\n",
       "    <tr>\n",
       "      <th>16</th>\n",
       "      <td>85.761088</td>\n",
       "      <td>459</td>\n",
       "      <td>TA00020</td>\n",
       "      <td>TA00067</td>\n",
       "    </tr>\n",
       "  </tbody>\n",
       "</table>\n",
       "</div>"
      ],
      "text/plain": [
       "     distance  elevation     from       to\n",
       "3   40.705243       -155  TA00020  TA00025\n",
       "11  44.519409          7  TA00020  TA00057\n",
       "15  48.530912       -353  TA00020  TA00066\n",
       "2   67.805403        123  TA00020  TA00024\n",
       "16  85.761088        459  TA00020  TA00067"
      ]
     },
     "execution_count": 103,
     "metadata": {},
     "output_type": "execute_result"
    }
   ],
   "source": [
    "nearby_stations('TA00020',k=5)"
   ]
  },
  {
   "cell_type": "code",
   "execution_count": 104,
   "metadata": {},
   "outputs": [],
   "source": [
    "import os"
   ]
  },
  {
   "cell_type": "code",
   "execution_count": 106,
   "metadata": {},
   "outputs": [],
   "source": [
    "alldata = pd.DataFrame()\n",
    "# Extract the station\n",
    "for ff in os.listdir('hrdata/'):\n",
    "    #print ff\n",
    "    \n",
    "    dd2 = pd.read_csv('hrdata/'+ff)\n",
    "    alldata = pd.concat([alldata,dd2])\n",
    "    "
   ]
  },
  {
   "cell_type": "code",
   "execution_count": 109,
   "metadata": {},
   "outputs": [],
   "source": [
    "alldata.to_csv(\"kenyastations.csv\",index=False)"
   ]
  },
  {
   "cell_type": "code",
   "execution_count": 100,
   "metadata": {},
   "outputs": [],
   "source": [
    "xx = pd.concat([dd,dd2])"
   ]
  },
  {
   "cell_type": "code",
   "execution_count": 102,
   "metadata": {},
   "outputs": [
    {
     "data": {
      "text/plain": [
       "((35088, 9), 35088)"
      ]
     },
     "execution_count": 102,
     "metadata": {},
     "output_type": "execute_result"
    }
   ],
   "source": [
    "xx.shape, dd.shape[0] + dd2.shape[0]"
   ]
  },
  {
   "cell_type": "code",
   "execution_count": 98,
   "metadata": {},
   "outputs": [
    {
     "data": {
      "text/plain": [
       "(0, 9)"
      ]
     },
     "execution_count": 98,
     "metadata": {},
     "output_type": "execute_result"
    }
   ],
   "source": [
    "xx.shape"
   ]
  },
  {
   "cell_type": "code",
   "execution_count": null,
   "metadata": {},
   "outputs": [],
   "source": [
    "class FeatureExtractor(object):\n",
    "\n",
    "    def __init__(self):\n",
    "        pass\n",
    "\n",
    "    def transform(self, X_ds):\n",
    "        \"\"\"Compute the vector of input variables at time t. Spatial variables will\n",
    "        be averaged along lat and lon coordinates.\"\"\"\n",
    "        # This is the range for which features should be provided. Strip\n",
    "        # the burn-in from the beginning and the prediction look-ahead from\n",
    "        # the end.\n",
    "        valid_range = np.arange(X_ds.attrs['n_burn_in'], len(X_ds['time']))\n",
    "        # We convert the Dataset into a 4D DataArray\n",
    "        X_xr = X_ds.to_array()\n",
    "        # We compute the mean over the lat and lon axes\n",
    "        mean_xr = np.mean(X_xr, axis=(2, 3))\n",
    "        # We convert it into numpy array, transpose, and slice the valid range\n",
    "        X_array = mean_xr.values.T[valid_range]\n",
    "        return X_array\n"
   ]
  },
  {
   "cell_type": "markdown",
   "metadata": {},
   "source": [
    "### Exploratory analysis"
   ]
  },
  {
   "cell_type": "code",
   "execution_count": 13,
   "metadata": {},
   "outputs": [
    {
     "data": {
      "text/html": [
       "<div>\n",
       "<style scoped>\n",
       "    .dataframe tbody tr th:only-of-type {\n",
       "        vertical-align: middle;\n",
       "    }\n",
       "\n",
       "    .dataframe tbody tr th {\n",
       "        vertical-align: top;\n",
       "    }\n",
       "\n",
       "    .dataframe thead th {\n",
       "        text-align: right;\n",
       "    }\n",
       "</style>\n",
       "<table border=\"1\" class=\"dataframe\">\n",
       "  <thead>\n",
       "    <tr style=\"text-align: right;\">\n",
       "      <th></th>\n",
       "      <th>id</th>\n",
       "      <th>name</th>\n",
       "      <th>country</th>\n",
       "      <th>latitude</th>\n",
       "      <th>longitude</th>\n",
       "      <th>elevation</th>\n",
       "    </tr>\n",
       "  </thead>\n",
       "  <tbody>\n",
       "    <tr>\n",
       "      <th>0</th>\n",
       "      <td>TA00020</td>\n",
       "      <td>Woodlands 2000 Trust</td>\n",
       "      <td>KE</td>\n",
       "      <td>-1.653356</td>\n",
       "      <td>36.862397</td>\n",
       "      <td>1643</td>\n",
       "    </tr>\n",
       "    <tr>\n",
       "      <th>1</th>\n",
       "      <td>TA00021</td>\n",
       "      <td>Kipsomba Secondary School</td>\n",
       "      <td>KE</td>\n",
       "      <td>0.757986</td>\n",
       "      <td>35.173711</td>\n",
       "      <td>1946</td>\n",
       "    </tr>\n",
       "    <tr>\n",
       "      <th>2</th>\n",
       "      <td>TA00023</td>\n",
       "      <td>Dwa Estate</td>\n",
       "      <td>KE</td>\n",
       "      <td>-2.388550</td>\n",
       "      <td>38.040767</td>\n",
       "      <td>791</td>\n",
       "    </tr>\n",
       "    <tr>\n",
       "      <th>3</th>\n",
       "      <td>TA00024</td>\n",
       "      <td>Mang'u High School</td>\n",
       "      <td>KE</td>\n",
       "      <td>-1.071731</td>\n",
       "      <td>37.045578</td>\n",
       "      <td>1520</td>\n",
       "    </tr>\n",
       "    <tr>\n",
       "      <th>4</th>\n",
       "      <td>TA00025</td>\n",
       "      <td>Kenya Meteorological Department</td>\n",
       "      <td>KE</td>\n",
       "      <td>-1.301839</td>\n",
       "      <td>36.760200</td>\n",
       "      <td>1798</td>\n",
       "    </tr>\n",
       "  </tbody>\n",
       "</table>\n",
       "</div>"
      ],
      "text/plain": [
       "        id                             name country  latitude  longitude  \\\n",
       "0  TA00020             Woodlands 2000 Trust      KE -1.653356  36.862397   \n",
       "1  TA00021        Kipsomba Secondary School      KE  0.757986  35.173711   \n",
       "2  TA00023                       Dwa Estate      KE -2.388550  38.040767   \n",
       "3  TA00024               Mang'u High School      KE -1.071731  37.045578   \n",
       "4  TA00025  Kenya Meteorological Department      KE -1.301839  36.760200   \n",
       "\n",
       "   elevation  \n",
       "0       1643  \n",
       "1       1946  \n",
       "2        791  \n",
       "3       1520  \n",
       "4       1798  "
      ]
     },
     "execution_count": 13,
     "metadata": {},
     "output_type": "execute_result"
    }
   ],
   "source": [
    "stn.head(5)"
   ]
  },
  {
   "cell_type": "code",
   "execution_count": 27,
   "metadata": {},
   "outputs": [],
   "source": [
    "\n",
    "    \n",
    "    "
   ]
  },
  {
   "cell_type": "markdown",
   "metadata": {},
   "source": [
    "1. Hurdel model. Predict whether it rains or not?\n",
    "2. If it rains how much amount? Possibly use the rainy events data. "
   ]
  },
  {
   "cell_type": "markdown",
   "metadata": {},
   "source": [
    "### Dived the data into training/validation and testing data. "
   ]
  },
  {
   "cell_type": "code",
   "execution_count": null,
   "metadata": {},
   "outputs": [],
   "source": []
  }
 ],
 "metadata": {
  "kernelspec": {
   "display_name": "Python 2",
   "language": "python",
   "name": "python2"
  },
  "language_info": {
   "codemirror_mode": {
    "name": "ipython",
    "version": 2
   },
   "file_extension": ".py",
   "mimetype": "text/x-python",
   "name": "python",
   "nbconvert_exporter": "python",
   "pygments_lexer": "ipython2",
   "version": "2.7.12"
  }
 },
 "nbformat": 4,
 "nbformat_minor": 2
}
