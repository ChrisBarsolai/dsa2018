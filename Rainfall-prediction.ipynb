{
 "cells": [
  {
   "cell_type": "markdown",
   "metadata": {},
   "source": [
    "# Hands on exercise on TAHMO data"
   ]
  },
  {
   "cell_type": "markdown",
   "metadata": {},
   "source": [
    "Outline\n",
    "---------\n",
    "- Dataset description and picture map. \n",
    "- Feature extraction step \n",
    "- Model construction \n"
   ]
  },
  {
   "cell_type": "code",
   "execution_count": 1,
   "metadata": {},
   "outputs": [],
   "source": [
    "## Map of the stations.. \n",
    "from mpl_toolkits.basemap import Basemap\n",
    "import matplotlib.pylab as plt\n",
    "%matplotlib inline \n",
    "import pandas as pd \n",
    "import numpy as np "
   ]
  },
  {
   "cell_type": "code",
   "execution_count": 76,
   "metadata": {},
   "outputs": [],
   "source": [
    "import math\n",
    "def haversine_distance(lat1, lon1, lat2, lon2):\n",
    "    \"\"\"\n",
    "    Distance between two geographical location. \n",
    "    args:\n",
    "        lat1: latitude of station 1\n",
    "        lon1: longtitude of station 1\n",
    "        lat2: latitude of station 2\n",
    "        lon2: longtitude of station2\n",
    "    \"\"\"\n",
    "    \n",
    "    earth_radius = 6371.16\n",
    "    deg2rad = lambda deg: deg*math.pi/180\n",
    "    dlat = deg2rad(lat2 - lat1)\n",
    "    dlon = deg2rad(lon2 - lon1)\n",
    "    a = math.sin(dlat / 2) * math.sin(dlat / 2) + math.cos(deg2rad(lat1)) * \\\n",
    "    math.cos(deg2rad(lat2)) * math.sin(dlon / 2) * math.sin(dlon / 2)\n",
    "    c = 2 * math.atan2(math.sqrt(a), math.sqrt(1-a))\n",
    "    d = earth_radius * c #// Distance in km\n",
    "    return d\n"
   ]
  },
  {
   "cell_type": "markdown",
   "metadata": {},
   "source": [
    "<h2>Introduction</h2>\n",
    "\n",
    "<img src=images/allafrica.png width=75%>\n",
    "\n",
    "Stations located in Kenya. \n",
    "\n",
    "<img src=images/target-stations.png width=75%>\n",
    "\n",
    "<h3>The TAHMO stations</h3>\n",
    "\n",
    "<h3>Dataset</h3>\n",
    "\n",
    "The data is a time series of weather sensor readings, consisting of different physical variables on a regular grid on the Earth, indexed by lon(gitude) and lat(itude) coordinates. The variables we have made available are: \n",
    "<ul>\n",
    "<li>prec --- Percipitation. \n",
    "<li>tair --- air temperature. \n",
    "<li>relh --- relative humidity. \n",
    "<li>wspd --- wind speed. \n",
    "<li>wgst --- wind gust. \n",
    "<li>pres --- surface pressure.\n",
    "<li>srad --- Solar radiation. \n",
    "</ul>\n",
    " \n",
    "The fields are recorded every 5 minutes for two years from 2016-2017. The dataset is observation averaged on hour scale. \n",
    "\n",
    "\n",
    "### Station description\n",
    "\n",
    " - from: Station id\n",
    " - to: Station id \n",
    " - distance (km): distance between stations.  \n",
    " - elevation (m) : Elevation difference between from & to station. \n",
    "\n",
    "<h3>The prediction task</h3>\n",
    " - Predict whether it rains or not.\n",
    " - Predict the amount of rain for the rainy period. \n",
    "\n"
   ]
  },
  {
   "cell_type": "code",
   "execution_count": 105,
   "metadata": {},
   "outputs": [],
   "source": [
    "def nearby_stations(site_code, k=10, radius=100):\n",
    "    \"\"\"\n",
    "    Return k-nearest stations. \n",
    "    \"\"\"\n",
    "    stations = pd.read_csv(\"nearest_stations.csv\")\n",
    "    k_nearest = stations[(stations['from'] == site_code) & (stations['distance'] < radius)]\n",
    "    k_nearest = k_nearest.sort_values(by=['distance', 'elevation'], ascending=True)[0:k]\n",
    "    \n",
    "    return k_nearest"
   ]
  },
  {
   "cell_type": "code",
   "execution_count": null,
   "metadata": {},
   "outputs": [],
   "source": []
  },
  {
   "cell_type": "code",
   "execution_count": 13,
   "metadata": {},
   "outputs": [],
   "source": [
    "dt = pd.read_csv('kenya-tahmo.csv')"
   ]
  },
  {
   "cell_type": "code",
   "execution_count": 19,
   "metadata": {},
   "outputs": [
    {
     "name": "stdout",
     "output_type": "stream",
     "text": [
      "<class 'pandas.core.frame.DataFrame'>\n",
      "RangeIndex: 468196 entries, 0 to 468195\n",
      "Data columns (total 9 columns):\n",
      "station     468196 non-null object\n",
      "datetime    468196 non-null datetime64[ns]\n",
      "prec        468196 non-null float64\n",
      "wgst        468196 non-null float64\n",
      "pres        468196 non-null float64\n",
      "wspd        467407 non-null float64\n",
      "srad        467407 non-null float64\n",
      "tair        467388 non-null float64\n",
      "relh        460821 non-null float64\n",
      "dtypes: datetime64[ns](1), float64(7), object(1)\n",
      "memory usage: 32.1+ MB\n"
     ]
    }
   ],
   "source": [
    "dt.info()"
   ]
  },
  {
   "cell_type": "code",
   "execution_count": 16,
   "metadata": {},
   "outputs": [],
   "source": [
    "## Convert to datetime \n",
    "dt.datetime = pd.to_datetime(dt.datetime)"
   ]
  },
  {
   "cell_type": "code",
   "execution_count": 25,
   "metadata": {},
   "outputs": [],
   "source": [
    "# Split train and test data. \n",
    "X_train = dt[dt.datetime.dt.year==2016]\n",
    "X_test  = dt[dt.datetime.dt.year==2017]"
   ]
  },
  {
   "cell_type": "code",
   "execution_count": null,
   "metadata": {},
   "outputs": [],
   "source": [
    "# Target stations TA00077, TA00074, TA00025\n"
   ]
  },
  {
   "cell_type": "code",
   "execution_count": 108,
   "metadata": {},
   "outputs": [
    {
     "data": {
      "text/html": [
       "<div>\n",
       "<style scoped>\n",
       "    .dataframe tbody tr th:only-of-type {\n",
       "        vertical-align: middle;\n",
       "    }\n",
       "\n",
       "    .dataframe tbody tr th {\n",
       "        vertical-align: top;\n",
       "    }\n",
       "\n",
       "    .dataframe thead th {\n",
       "        text-align: right;\n",
       "    }\n",
       "</style>\n",
       "<table border=\"1\" class=\"dataframe\">\n",
       "  <thead>\n",
       "    <tr style=\"text-align: right;\">\n",
       "      <th></th>\n",
       "      <th>distance</th>\n",
       "      <th>elevation</th>\n",
       "      <th>from</th>\n",
       "      <th>to</th>\n",
       "    </tr>\n",
       "  </thead>\n",
       "  <tbody>\n",
       "    <tr>\n",
       "      <th>635</th>\n",
       "      <td>19.023836</td>\n",
       "      <td>346</td>\n",
       "      <td>TA00074</td>\n",
       "      <td>TA00056</td>\n",
       "    </tr>\n",
       "    <tr>\n",
       "      <th>632</th>\n",
       "      <td>54.625369</td>\n",
       "      <td>-801</td>\n",
       "      <td>TA00074</td>\n",
       "      <td>TA00029</td>\n",
       "    </tr>\n",
       "    <tr>\n",
       "      <th>627</th>\n",
       "      <td>56.318508</td>\n",
       "      <td>202</td>\n",
       "      <td>TA00074</td>\n",
       "      <td>TA00024</td>\n",
       "    </tr>\n",
       "    <tr>\n",
       "      <th>647</th>\n",
       "      <td>57.152416</td>\n",
       "      <td>-118</td>\n",
       "      <td>TA00074</td>\n",
       "      <td>TA00073</td>\n",
       "    </tr>\n",
       "    <tr>\n",
       "      <th>631</th>\n",
       "      <td>68.484114</td>\n",
       "      <td>-294</td>\n",
       "      <td>TA00074</td>\n",
       "      <td>TA00028</td>\n",
       "    </tr>\n",
       "  </tbody>\n",
       "</table>\n",
       "</div>"
      ],
      "text/plain": [
       "      distance  elevation     from       to\n",
       "635  19.023836        346  TA00074  TA00056\n",
       "632  54.625369       -801  TA00074  TA00029\n",
       "627  56.318508        202  TA00074  TA00024\n",
       "647  57.152416       -118  TA00074  TA00073\n",
       "631  68.484114       -294  TA00074  TA00028"
      ]
     },
     "execution_count": 108,
     "metadata": {},
     "output_type": "execute_result"
    }
   ],
   "source": [
    "nearby_stations('TA00074',k=5)"
   ]
  },
  {
   "cell_type": "code",
   "execution_count": null,
   "metadata": {},
   "outputs": [],
   "source": [
    "### Feature extraction."
   ]
  },
  {
   "cell_type": "code",
   "execution_count": null,
   "metadata": {},
   "outputs": [],
   "source": [
    "class FeatureExtractor(object):\n",
    "\n",
    "    def __init__(self):\n",
    "        pass\n",
    "\n",
    "    def transform(self, X_ds):\n",
    "        X_array = X_ds.groupby([X_ds.datetime.dt.day,'station']).mean()\n",
    "        return X_array\n"
   ]
  },
  {
   "cell_type": "markdown",
   "metadata": {},
   "source": [
    "### Exploratory analysis"
   ]
  },
  {
   "cell_type": "code",
   "execution_count": 18,
   "metadata": {},
   "outputs": [
    {
     "data": {
      "text/html": [
       "<div>\n",
       "<style scoped>\n",
       "    .dataframe tbody tr th:only-of-type {\n",
       "        vertical-align: middle;\n",
       "    }\n",
       "\n",
       "    .dataframe tbody tr th {\n",
       "        vertical-align: top;\n",
       "    }\n",
       "\n",
       "    .dataframe thead th {\n",
       "        text-align: right;\n",
       "    }\n",
       "</style>\n",
       "<table border=\"1\" class=\"dataframe\">\n",
       "  <thead>\n",
       "    <tr style=\"text-align: right;\">\n",
       "      <th></th>\n",
       "      <th>station</th>\n",
       "      <th>datetime</th>\n",
       "      <th>prec</th>\n",
       "      <th>wgst</th>\n",
       "      <th>pres</th>\n",
       "      <th>wspd</th>\n",
       "      <th>srad</th>\n",
       "      <th>tair</th>\n",
       "      <th>relh</th>\n",
       "    </tr>\n",
       "  </thead>\n",
       "  <tbody>\n",
       "    <tr>\n",
       "      <th>0</th>\n",
       "      <td>TA00061</td>\n",
       "      <td>2016-01-01 00:00:00</td>\n",
       "      <td>0.00</td>\n",
       "      <td>1.2</td>\n",
       "      <td>80.900000</td>\n",
       "      <td>0.366667</td>\n",
       "      <td>0.000000</td>\n",
       "      <td>13.450000</td>\n",
       "      <td>1.021667</td>\n",
       "    </tr>\n",
       "    <tr>\n",
       "      <th>1</th>\n",
       "      <td>TA00061</td>\n",
       "      <td>2016-01-01 01:00:00</td>\n",
       "      <td>0.00</td>\n",
       "      <td>1.4</td>\n",
       "      <td>80.900833</td>\n",
       "      <td>0.433333</td>\n",
       "      <td>0.000000</td>\n",
       "      <td>12.608333</td>\n",
       "      <td>1.006667</td>\n",
       "    </tr>\n",
       "    <tr>\n",
       "      <th>2</th>\n",
       "      <td>TA00061</td>\n",
       "      <td>2016-01-01 02:00:00</td>\n",
       "      <td>0.00</td>\n",
       "      <td>1.0</td>\n",
       "      <td>80.943333</td>\n",
       "      <td>0.266667</td>\n",
       "      <td>0.000000</td>\n",
       "      <td>12.091667</td>\n",
       "      <td>0.954167</td>\n",
       "    </tr>\n",
       "    <tr>\n",
       "      <th>3</th>\n",
       "      <td>TA00061</td>\n",
       "      <td>2016-01-01 03:00:00</td>\n",
       "      <td>0.00</td>\n",
       "      <td>1.8</td>\n",
       "      <td>80.997500</td>\n",
       "      <td>0.416667</td>\n",
       "      <td>1.373333</td>\n",
       "      <td>12.333333</td>\n",
       "      <td>0.930000</td>\n",
       "    </tr>\n",
       "    <tr>\n",
       "      <th>4</th>\n",
       "      <td>TA00061</td>\n",
       "      <td>2016-01-01 04:00:00</td>\n",
       "      <td>0.02</td>\n",
       "      <td>1.2</td>\n",
       "      <td>81.055000</td>\n",
       "      <td>0.375000</td>\n",
       "      <td>26.702500</td>\n",
       "      <td>13.075000</td>\n",
       "      <td>0.905833</td>\n",
       "    </tr>\n",
       "  </tbody>\n",
       "</table>\n",
       "</div>"
      ],
      "text/plain": [
       "   station            datetime  prec  wgst       pres      wspd       srad  \\\n",
       "0  TA00061 2016-01-01 00:00:00  0.00   1.2  80.900000  0.366667   0.000000   \n",
       "1  TA00061 2016-01-01 01:00:00  0.00   1.4  80.900833  0.433333   0.000000   \n",
       "2  TA00061 2016-01-01 02:00:00  0.00   1.0  80.943333  0.266667   0.000000   \n",
       "3  TA00061 2016-01-01 03:00:00  0.00   1.8  80.997500  0.416667   1.373333   \n",
       "4  TA00061 2016-01-01 04:00:00  0.02   1.2  81.055000  0.375000  26.702500   \n",
       "\n",
       "        tair      relh  \n",
       "0  13.450000  1.021667  \n",
       "1  12.608333  1.006667  \n",
       "2  12.091667  0.954167  \n",
       "3  12.333333  0.930000  \n",
       "4  13.075000  0.905833  "
      ]
     },
     "execution_count": 18,
     "metadata": {},
     "output_type": "execute_result"
    }
   ],
   "source": [
    "dt.head(5)"
   ]
  },
  {
   "cell_type": "markdown",
   "metadata": {},
   "source": [
    "### Regression "
   ]
  },
  {
   "cell_type": "code",
   "execution_count": 1,
   "metadata": {},
   "outputs": [],
   "source": [
    "from sklearn.linear_model import LinearRegression\n",
    "from sklearn.base import BaseEstimator\n",
    "\n",
    "class Regressor(BaseEstimator):\n",
    "    def __init__(self):\n",
    "        self.clf = LinearRegression()\n",
    "\n",
    "    def fit(self, X, y):\n",
    "        self.clf.fit(X, y)\n",
    "\n",
    "    def predict(self, X):\n",
    "        return self.clf.predict(X)\n",
    "\n",
    "    "
   ]
  },
  {
   "cell_type": "markdown",
   "metadata": {},
   "source": [
    "1. Hurdel model. Predict whether it rains or not?\n",
    "2. If it rains how much amount? Possibly use the rainy events data. "
   ]
  },
  {
   "cell_type": "code",
   "execution_count": 92,
   "metadata": {},
   "outputs": [],
   "source": [
    "## Load station \n",
    "allrain = pd.read_csv('gpm-tahmo-rain.csv')"
   ]
  },
  {
   "cell_type": "code",
   "execution_count": 94,
   "metadata": {},
   "outputs": [],
   "source": [
    "allrain.datetime = pd.to_datetime(allrain.datetime)"
   ]
  },
  {
   "cell_type": "code",
   "execution_count": 95,
   "metadata": {},
   "outputs": [
    {
     "data": {
      "text/html": [
       "<div>\n",
       "<style scoped>\n",
       "    .dataframe tbody tr th:only-of-type {\n",
       "        vertical-align: middle;\n",
       "    }\n",
       "\n",
       "    .dataframe tbody tr th {\n",
       "        vertical-align: top;\n",
       "    }\n",
       "\n",
       "    .dataframe thead th {\n",
       "        text-align: right;\n",
       "    }\n",
       "</style>\n",
       "<table border=\"1\" class=\"dataframe\">\n",
       "  <thead>\n",
       "    <tr style=\"text-align: right;\">\n",
       "      <th></th>\n",
       "      <th>station</th>\n",
       "      <th>year</th>\n",
       "      <th>month</th>\n",
       "      <th>day</th>\n",
       "      <th>tahmo</th>\n",
       "      <th>gpm</th>\n",
       "      <th>datetime</th>\n",
       "      <th>yday</th>\n",
       "    </tr>\n",
       "  </thead>\n",
       "  <tbody>\n",
       "    <tr>\n",
       "      <th>0</th>\n",
       "      <td>TA00020</td>\n",
       "      <td>2016</td>\n",
       "      <td>1</td>\n",
       "      <td>1</td>\n",
       "      <td>0.0</td>\n",
       "      <td>0.0</td>\n",
       "      <td>2016-01-01</td>\n",
       "      <td>1</td>\n",
       "    </tr>\n",
       "    <tr>\n",
       "      <th>1</th>\n",
       "      <td>TA00020</td>\n",
       "      <td>2016</td>\n",
       "      <td>1</td>\n",
       "      <td>2</td>\n",
       "      <td>0.0</td>\n",
       "      <td>0.0</td>\n",
       "      <td>2016-01-02</td>\n",
       "      <td>2</td>\n",
       "    </tr>\n",
       "    <tr>\n",
       "      <th>2</th>\n",
       "      <td>TA00020</td>\n",
       "      <td>2016</td>\n",
       "      <td>1</td>\n",
       "      <td>3</td>\n",
       "      <td>0.0</td>\n",
       "      <td>0.0</td>\n",
       "      <td>2016-01-03</td>\n",
       "      <td>3</td>\n",
       "    </tr>\n",
       "    <tr>\n",
       "      <th>3</th>\n",
       "      <td>TA00020</td>\n",
       "      <td>2016</td>\n",
       "      <td>1</td>\n",
       "      <td>4</td>\n",
       "      <td>0.0</td>\n",
       "      <td>0.0</td>\n",
       "      <td>2016-01-04</td>\n",
       "      <td>4</td>\n",
       "    </tr>\n",
       "    <tr>\n",
       "      <th>4</th>\n",
       "      <td>TA00020</td>\n",
       "      <td>2016</td>\n",
       "      <td>1</td>\n",
       "      <td>5</td>\n",
       "      <td>0.0</td>\n",
       "      <td>0.0</td>\n",
       "      <td>2016-01-05</td>\n",
       "      <td>5</td>\n",
       "    </tr>\n",
       "  </tbody>\n",
       "</table>\n",
       "</div>"
      ],
      "text/plain": [
       "   station  year  month  day  tahmo  gpm   datetime  yday\n",
       "0  TA00020  2016      1    1    0.0  0.0 2016-01-01     1\n",
       "1  TA00020  2016      1    2    0.0  0.0 2016-01-02     2\n",
       "2  TA00020  2016      1    3    0.0  0.0 2016-01-03     3\n",
       "3  TA00020  2016      1    4    0.0  0.0 2016-01-04     4\n",
       "4  TA00020  2016      1    5    0.0  0.0 2016-01-05     5"
      ]
     },
     "execution_count": 95,
     "metadata": {},
     "output_type": "execute_result"
    }
   ],
   "source": [
    "allrain.head(5)"
   ]
  },
  {
   "cell_type": "code",
   "execution_count": 99,
   "metadata": {},
   "outputs": [],
   "source": [
    "tahmo = allrain[['station','year','datetime','yday','tahmo']]"
   ]
  },
  {
   "cell_type": "code",
   "execution_count": 100,
   "metadata": {},
   "outputs": [],
   "source": [
    "def k_nearby_features(target_station, k=5, year=2016):\n",
    "    \"\"\"\n",
    "    Extract percipitation from k nearby stations. \n",
    "    \"\"\"\n",
    "    filter_stn = lambda stn_name, year: tahmo[(tahmo.station==stn_name) & (tahmo.year==year)] \n",
    "    t_station = filter_stn(target_station, year)\n",
    "    k_station = nearby_stations(site_code=target_station, k=k,radius=300).to.tolist()\n",
    "    X = t_station['tahmo'].as_matrix().reshape([-1,1])\n",
    "    datetime = tahmo.datetime\n",
    "    print X.shape\n",
    "    for stt in k_station:\n",
    "        tmp = filter_stn(stt,year)\n",
    "        R = tmp[['tahmo']].as_matrix().reshape([-1,1])\n",
    "        #print R.shape \n",
    "        X = np.hstack([X,R])\n",
    "    df = pd.concat([datetime,pd.DataFrame(X)], axis=1)\n",
    "    df.columns = [\"datetime\",target_station] + k_station\n",
    "    return df"
   ]
  },
  {
   "cell_type": "code",
   "execution_count": 103,
   "metadata": {},
   "outputs": [
    {
     "name": "stdout",
     "output_type": "stream",
     "text": [
      "(366, 1)\n"
     ]
    }
   ],
   "source": [
    "t_station = k_nearby_features('TA00020')"
   ]
  },
  {
   "cell_type": "code",
   "execution_count": 104,
   "metadata": {},
   "outputs": [
    {
     "data": {
      "text/html": [
       "<div>\n",
       "<style scoped>\n",
       "    .dataframe tbody tr th:only-of-type {\n",
       "        vertical-align: middle;\n",
       "    }\n",
       "\n",
       "    .dataframe tbody tr th {\n",
       "        vertical-align: top;\n",
       "    }\n",
       "\n",
       "    .dataframe thead th {\n",
       "        text-align: right;\n",
       "    }\n",
       "</style>\n",
       "<table border=\"1\" class=\"dataframe\">\n",
       "  <thead>\n",
       "    <tr style=\"text-align: right;\">\n",
       "      <th></th>\n",
       "      <th>datetime</th>\n",
       "      <th>TA00020</th>\n",
       "      <th>TA00025</th>\n",
       "      <th>TA00057</th>\n",
       "      <th>TA00066</th>\n",
       "      <th>TA00024</th>\n",
       "      <th>TA00067</th>\n",
       "    </tr>\n",
       "  </thead>\n",
       "  <tbody>\n",
       "    <tr>\n",
       "      <th>0</th>\n",
       "      <td>2016-01-01</td>\n",
       "      <td>0.0</td>\n",
       "      <td>0.14</td>\n",
       "      <td>0.04</td>\n",
       "      <td>0.20</td>\n",
       "      <td>0.16</td>\n",
       "      <td>0.00</td>\n",
       "    </tr>\n",
       "    <tr>\n",
       "      <th>1</th>\n",
       "      <td>2016-01-02</td>\n",
       "      <td>0.0</td>\n",
       "      <td>0.04</td>\n",
       "      <td>0.00</td>\n",
       "      <td>0.08</td>\n",
       "      <td>0.18</td>\n",
       "      <td>0.00</td>\n",
       "    </tr>\n",
       "    <tr>\n",
       "      <th>2</th>\n",
       "      <td>2016-01-03</td>\n",
       "      <td>0.0</td>\n",
       "      <td>0.08</td>\n",
       "      <td>0.04</td>\n",
       "      <td>0.00</td>\n",
       "      <td>0.14</td>\n",
       "      <td>0.12</td>\n",
       "    </tr>\n",
       "    <tr>\n",
       "      <th>3</th>\n",
       "      <td>2016-01-04</td>\n",
       "      <td>0.0</td>\n",
       "      <td>3.64</td>\n",
       "      <td>16.49</td>\n",
       "      <td>4.39</td>\n",
       "      <td>7.49</td>\n",
       "      <td>15.84</td>\n",
       "    </tr>\n",
       "    <tr>\n",
       "      <th>4</th>\n",
       "      <td>2016-01-05</td>\n",
       "      <td>0.0</td>\n",
       "      <td>0.77</td>\n",
       "      <td>0.95</td>\n",
       "      <td>0.48</td>\n",
       "      <td>0.88</td>\n",
       "      <td>14.56</td>\n",
       "    </tr>\n",
       "  </tbody>\n",
       "</table>\n",
       "</div>"
      ],
      "text/plain": [
       "    datetime  TA00020  TA00025  TA00057  TA00066  TA00024  TA00067\n",
       "0 2016-01-01      0.0     0.14     0.04     0.20     0.16     0.00\n",
       "1 2016-01-02      0.0     0.04     0.00     0.08     0.18     0.00\n",
       "2 2016-01-03      0.0     0.08     0.04     0.00     0.14     0.12\n",
       "3 2016-01-04      0.0     3.64    16.49     4.39     7.49    15.84\n",
       "4 2016-01-05      0.0     0.77     0.95     0.48     0.88    14.56"
      ]
     },
     "execution_count": 104,
     "metadata": {},
     "output_type": "execute_result"
    }
   ],
   "source": [
    "t_station.head(5)"
   ]
  },
  {
   "cell_type": "code",
   "execution_count": 32,
   "metadata": {},
   "outputs": [],
   "source": [
    "filter_stn = lambda stn_name, year: tahmo[(tahmo.station==stn_name) & (tahmo.year==year)]\n",
    "target_station = \"TA00021\"\n",
    "year=2016"
   ]
  },
  {
   "cell_type": "code",
   "execution_count": 54,
   "metadata": {},
   "outputs": [],
   "source": [
    "t_station = filter_stn(target_station, year)\n",
    "k_station = nearby_stations(site_code=target_station,k=5, radius=500).to.tolist()\n",
    "  "
   ]
  },
  {
   "cell_type": "code",
   "execution_count": 61,
   "metadata": {},
   "outputs": [],
   "source": [
    "X = t_station['tahmo'].as_matrix().reshape([-1,1])"
   ]
  },
  {
   "cell_type": "code",
   "execution_count": 62,
   "metadata": {},
   "outputs": [
    {
     "data": {
      "text/plain": [
       "(366, 1)"
      ]
     },
     "execution_count": 62,
     "metadata": {},
     "output_type": "execute_result"
    }
   ],
   "source": [
    "X.shape"
   ]
  },
  {
   "cell_type": "code",
   "execution_count": 63,
   "metadata": {},
   "outputs": [],
   "source": [
    "for stt in k_station:\n",
    "    dfs = filter_stn(k_station[1],year)\n",
    "    R = dfs[['tahmo']].as_matrix()\n",
    "#R = yX\n",
    "    R = R.reshape([-1,1])\n",
    "      #print R.shape\n",
    "    X = np.hstack([X,R])\n"
   ]
  },
  {
   "cell_type": "code",
   "execution_count": 64,
   "metadata": {},
   "outputs": [
    {
     "data": {
      "text/plain": [
       "(366, 6)"
      ]
     },
     "execution_count": 64,
     "metadata": {},
     "output_type": "execute_result"
    }
   ],
   "source": [
    "X"
   ]
  },
  {
   "cell_type": "code",
   "execution_count": 60,
   "metadata": {},
   "outputs": [
    {
     "data": {
      "text/plain": [
       "(366, 2)"
      ]
     },
     "execution_count": 60,
     "metadata": {},
     "output_type": "execute_result"
    }
   ],
   "source": [
    "X.shape"
   ]
  },
  {
   "cell_type": "code",
   "execution_count": 53,
   "metadata": {},
   "outputs": [
    {
     "data": {
      "text/plain": [
       "(366, 1)"
      ]
     },
     "execution_count": 53,
     "metadata": {},
     "output_type": "execute_result"
    }
   ],
   "source": [
    "R.shape"
   ]
  },
  {
   "cell_type": "code",
   "execution_count": null,
   "metadata": {},
   "outputs": [],
   "source": []
  },
  {
   "cell_type": "code",
   "execution_count": 8,
   "metadata": {},
   "outputs": [
    {
     "name": "stderr",
     "output_type": "stream",
     "text": [
      "/home/tadeze/anaconda2/lib/python2.7/site-packages/ipykernel_launcher.py:2: SettingWithCopyWarning: \n",
      "A value is trying to be set on a copy of a slice from a DataFrame.\n",
      "Try using .loc[row_indexer,col_indexer] = value instead\n",
      "\n",
      "See the caveats in the documentation: http://pandas.pydata.org/pandas-docs/stable/indexing.html#indexing-view-versus-copy\n",
      "  \n"
     ]
    }
   ],
   "source": [
    "## convert to wide format \n",
    "tahmo['station_type'] = tahmo['station'].astype(str)"
   ]
  },
  {
   "cell_type": "code",
   "execution_count": 9,
   "metadata": {},
   "outputs": [],
   "source": [
    "df = pd.pivot_table(tahmo, index='datetime',columns=['tahmo','station_type'])"
   ]
  },
  {
   "cell_type": "code",
   "execution_count": 10,
   "metadata": {},
   "outputs": [],
   "source": [
    "df.columns = df.columns.droplevel(0)"
   ]
  },
  {
   "cell_type": "code",
   "execution_count": null,
   "metadata": {},
   "outputs": [],
   "source": [
    "df['payment_type'] = df['payment_type'].astype(str)\n",
    "\n",
    "df = pd.pivot_table(df, index='date', columns=['vendor', 'payment_type'], aggfunc=max)\n",
    "\n",
    "#remove top level of multiindex\n",
    "df.columns = df.columns.droplevel(0)\n",
    "\n",
    "#reset multicolumns\n",
    "df.columns = ['_Pay'.join(col).strip() for col in df.columns.values]\n",
    "\n",
    "print df\n",
    "            A1_Pay1  A1_Pay2  B1_Pay1  B1_Pay2  C1_Pay1\n",
    "date                                                   \n",
    "2015-03-10       50       60      NaN      NaN       65\n",
    "2015-03-11       45       70      NaN      NaN      NaN\n",
    "2015-03-12      NaN      NaN       40       45      NaN"
   ]
  }
 ],
 "metadata": {
  "kernelspec": {
   "display_name": "Python 2",
   "language": "python",
   "name": "python2"
  },
  "language_info": {
   "codemirror_mode": {
    "name": "ipython",
    "version": 2
   },
   "file_extension": ".py",
   "mimetype": "text/x-python",
   "name": "python",
   "nbconvert_exporter": "python",
   "pygments_lexer": "ipython2",
   "version": "2.7.12"
  }
 },
 "nbformat": 4,
 "nbformat_minor": 2
}
