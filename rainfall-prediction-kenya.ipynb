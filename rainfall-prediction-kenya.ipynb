{
 "cells": [
  {
   "cell_type": "code",
   "execution_count": 7,
   "metadata": {},
   "outputs": [],
   "source": [
    "## Map of the stations.. \n",
    "import matplotlib.pylab as plt\n",
    "%matplotlib inline \n",
    "import pandas as pd \n",
    "import numpy as np \n",
    "import statsmodels.api as st\n",
    "import statsmodels.formula.api as sfa \n",
    "import seaborn as sbn \n",
    "from sklearn.linear_model import LinearRegression\n",
    "import sklearn.metrics as mt \n",
    "from sklearn.neighbors import KernelDensity"
   ]
  },
  {
   "cell_type": "markdown",
   "metadata": {},
   "source": [
    "### Data pre-processing"
   ]
  },
  {
   "cell_type": "code",
   "execution_count": 202,
   "metadata": {},
   "outputs": [
    {
     "name": "stdout",
     "output_type": "stream",
     "text": [
      "<class 'pandas.core.frame.DataFrame'>\n",
      "RangeIndex: 19251 entries, 0 to 19250\n",
      "Data columns (total 8 columns):\n",
      "station     19251 non-null object\n",
      "year        19251 non-null int64\n",
      "month       19251 non-null int64\n",
      "day         19251 non-null int64\n",
      "tahmo       19251 non-null float64\n",
      "gpm         19251 non-null float64\n",
      "datetime    19251 non-null datetime64[ns]\n",
      "yday        19251 non-null int64\n",
      "dtypes: datetime64[ns](1), float64(2), int64(4), object(1)\n",
      "memory usage: 1.2+ MB\n"
     ]
    }
   ],
   "source": [
    "## Load daily rainfall data\n",
    "allrain = pd.read_csv('gpm-tahmo-rain.csv')\n",
    "allrain.datetime = pd.to_datetime(allrain.datetime)\n",
    "allrain.info()"
   ]
  },
  {
   "cell_type": "code",
   "execution_count": 203,
   "metadata": {},
   "outputs": [
    {
     "data": {
      "text/html": [
       "<div>\n",
       "<style scoped>\n",
       "    .dataframe tbody tr th:only-of-type {\n",
       "        vertical-align: middle;\n",
       "    }\n",
       "\n",
       "    .dataframe tbody tr th {\n",
       "        vertical-align: top;\n",
       "    }\n",
       "\n",
       "    .dataframe thead th {\n",
       "        text-align: right;\n",
       "    }\n",
       "</style>\n",
       "<table border=\"1\" class=\"dataframe\">\n",
       "  <thead>\n",
       "    <tr style=\"text-align: right;\">\n",
       "      <th></th>\n",
       "      <th>station</th>\n",
       "      <th>year</th>\n",
       "      <th>datetime</th>\n",
       "      <th>tahmo</th>\n",
       "    </tr>\n",
       "  </thead>\n",
       "  <tbody>\n",
       "    <tr>\n",
       "      <th>0</th>\n",
       "      <td>TA00020</td>\n",
       "      <td>2016</td>\n",
       "      <td>2016-01-01</td>\n",
       "      <td>0.0</td>\n",
       "    </tr>\n",
       "    <tr>\n",
       "      <th>1</th>\n",
       "      <td>TA00020</td>\n",
       "      <td>2016</td>\n",
       "      <td>2016-01-02</td>\n",
       "      <td>0.0</td>\n",
       "    </tr>\n",
       "    <tr>\n",
       "      <th>2</th>\n",
       "      <td>TA00020</td>\n",
       "      <td>2016</td>\n",
       "      <td>2016-01-03</td>\n",
       "      <td>0.0</td>\n",
       "    </tr>\n",
       "    <tr>\n",
       "      <th>3</th>\n",
       "      <td>TA00020</td>\n",
       "      <td>2016</td>\n",
       "      <td>2016-01-04</td>\n",
       "      <td>0.0</td>\n",
       "    </tr>\n",
       "    <tr>\n",
       "      <th>4</th>\n",
       "      <td>TA00020</td>\n",
       "      <td>2016</td>\n",
       "      <td>2016-01-05</td>\n",
       "      <td>0.0</td>\n",
       "    </tr>\n",
       "  </tbody>\n",
       "</table>\n",
       "</div>"
      ],
      "text/plain": [
       "   station  year   datetime  tahmo\n",
       "0  TA00020  2016 2016-01-01    0.0\n",
       "1  TA00020  2016 2016-01-02    0.0\n",
       "2  TA00020  2016 2016-01-03    0.0\n",
       "3  TA00020  2016 2016-01-04    0.0\n",
       "4  TA00020  2016 2016-01-05    0.0"
      ]
     },
     "execution_count": 203,
     "metadata": {},
     "output_type": "execute_result"
    }
   ],
   "source": [
    "# Only tahmo stations\n",
    "tahmo_rain = allrain[['station','year','datetime','tahmo']]\n",
    "tahmo_rain.head(5)"
   ]
  },
  {
   "cell_type": "markdown",
   "metadata": {},
   "source": [
    "### Data exploratory \n",
    "Task:\n",
    "Predict the percipitation at a target station using nearby stations. For this task we target the following stations for prediction. \n",
    "    \n",
    "Target stations:\n",
    " - TA00025 \n",
    " - TA00074\n",
    " - TA00077\n",
    " \n",
    "The red markers indicates target stations. \n",
    "\n",
    "<img src=images/target-stations.png width=75%>"
   ]
  },
  {
   "cell_type": "code",
   "execution_count": 204,
   "metadata": {},
   "outputs": [],
   "source": [
    "def nearby_stations(site_code, k=10, radius=500):\n",
    "    \"\"\"\n",
    "    Return k-nearest stations, given a station name.\n",
    "    args:\n",
    "        site_code: station site code.\n",
    "        k: number of stations. \n",
    "        radius: radius of distance in KM\n",
    "    \"\"\"\n",
    "    stations = pd.read_csv(\"nearest_stations.csv\") #Pre-computed value. \n",
    "    k_nearest = stations[(stations['from'] == site_code) & (stations['distance'] < radius)]\n",
    "    k_nearest = k_nearest.sort_values(by=['distance', 'elevation'], ascending=True)[0:k]\n",
    "    \n",
    "    return k_nearest"
   ]
  },
  {
   "cell_type": "code",
   "execution_count": 205,
   "metadata": {},
   "outputs": [],
   "source": [
    "filter_station = lambda stn_name, year: tahmo_rain[(tahmo_rain.station==stn_name) & (tahmo_rain.year==year)] "
   ]
  },
  {
   "cell_type": "code",
   "execution_count": 206,
   "metadata": {},
   "outputs": [],
   "source": [
    "# target station \n",
    "target_station = \"TA00025\"\n",
    "t_station = filter_station(target_station, 2016)"
   ]
  },
  {
   "cell_type": "code",
   "execution_count": 207,
   "metadata": {},
   "outputs": [],
   "source": [
    "def k_nearby_features(target_station, k=5, year=2016):\n",
    "    \"\"\"\n",
    "    Extract percipitation from k nearby stations. \n",
    "    \"\"\"\n",
    "    filter_stn = lambda stn_name, year: tahmo_rain[(tahmo_rain.station==stn_name) & (tahmo_rain.year==year)] \n",
    "    t_station = filter_stn(target_station, year)\n",
    "    k_station = nearby_stations(site_code=target_station, k=k,radius=300).to.tolist()\n",
    "    X = t_station['tahmo'].as_matrix().reshape([-1,1])\n",
    "    datetime = t_station.datetime.tolist()\n",
    "    \n",
    "   # print datetime.shape\n",
    "    for stt in k_station:\n",
    "        R = filter_stn(stt,year)[['tahmo']].as_matrix().reshape([-1,1])\n",
    "        X = np.hstack([X,R])\n",
    "        \n",
    "    df = pd.concat([pd.DataFrame(datetime),pd.DataFrame(X)], axis=1)\n",
    "    df.columns = [\"datetime\",target_station] + k_station\n",
    "    \n",
    "    return df"
   ]
  },
  {
   "cell_type": "markdown",
   "metadata": {},
   "source": [
    "### Data exploratory "
   ]
  },
  {
   "cell_type": "code",
   "execution_count": 213,
   "metadata": {},
   "outputs": [],
   "source": [
    "## Target stations, TA0025, TA00077, TA00074 \n",
    "t_stn = k_nearby_features(target_station)"
   ]
  },
  {
   "cell_type": "code",
   "execution_count": 214,
   "metadata": {},
   "outputs": [
    {
     "data": {
      "text/html": [
       "<div>\n",
       "<style scoped>\n",
       "    .dataframe tbody tr th:only-of-type {\n",
       "        vertical-align: middle;\n",
       "    }\n",
       "\n",
       "    .dataframe tbody tr th {\n",
       "        vertical-align: top;\n",
       "    }\n",
       "\n",
       "    .dataframe thead th {\n",
       "        text-align: right;\n",
       "    }\n",
       "</style>\n",
       "<table border=\"1\" class=\"dataframe\">\n",
       "  <thead>\n",
       "    <tr style=\"text-align: right;\">\n",
       "      <th></th>\n",
       "      <th>datetime</th>\n",
       "      <th>TA00025</th>\n",
       "      <th>TA00066</th>\n",
       "      <th>TA00057</th>\n",
       "      <th>TA00020</th>\n",
       "      <th>TA00024</th>\n",
       "      <th>TA00056</th>\n",
       "    </tr>\n",
       "  </thead>\n",
       "  <tbody>\n",
       "    <tr>\n",
       "      <th>0</th>\n",
       "      <td>2016-01-01</td>\n",
       "      <td>0.14</td>\n",
       "      <td>0.20</td>\n",
       "      <td>0.04</td>\n",
       "      <td>0.0</td>\n",
       "      <td>0.16</td>\n",
       "      <td>0.00</td>\n",
       "    </tr>\n",
       "    <tr>\n",
       "      <th>1</th>\n",
       "      <td>2016-01-02</td>\n",
       "      <td>0.04</td>\n",
       "      <td>0.08</td>\n",
       "      <td>0.00</td>\n",
       "      <td>0.0</td>\n",
       "      <td>0.18</td>\n",
       "      <td>0.00</td>\n",
       "    </tr>\n",
       "    <tr>\n",
       "      <th>2</th>\n",
       "      <td>2016-01-03</td>\n",
       "      <td>0.08</td>\n",
       "      <td>0.00</td>\n",
       "      <td>0.04</td>\n",
       "      <td>0.0</td>\n",
       "      <td>0.14</td>\n",
       "      <td>0.00</td>\n",
       "    </tr>\n",
       "    <tr>\n",
       "      <th>3</th>\n",
       "      <td>2016-01-04</td>\n",
       "      <td>3.64</td>\n",
       "      <td>4.39</td>\n",
       "      <td>16.49</td>\n",
       "      <td>0.0</td>\n",
       "      <td>7.49</td>\n",
       "      <td>30.89</td>\n",
       "    </tr>\n",
       "    <tr>\n",
       "      <th>4</th>\n",
       "      <td>2016-01-05</td>\n",
       "      <td>0.77</td>\n",
       "      <td>0.48</td>\n",
       "      <td>0.95</td>\n",
       "      <td>0.0</td>\n",
       "      <td>0.88</td>\n",
       "      <td>4.16</td>\n",
       "    </tr>\n",
       "  </tbody>\n",
       "</table>\n",
       "</div>"
      ],
      "text/plain": [
       "    datetime  TA00025  TA00066  TA00057  TA00020  TA00024  TA00056\n",
       "0 2016-01-01     0.14     0.20     0.04      0.0     0.16     0.00\n",
       "1 2016-01-02     0.04     0.08     0.00      0.0     0.18     0.00\n",
       "2 2016-01-03     0.08     0.00     0.04      0.0     0.14     0.00\n",
       "3 2016-01-04     3.64     4.39    16.49      0.0     7.49    30.89\n",
       "4 2016-01-05     0.77     0.48     0.95      0.0     0.88     4.16"
      ]
     },
     "execution_count": 214,
     "metadata": {},
     "output_type": "execute_result"
    }
   ],
   "source": [
    "t_stn.head(5)"
   ]
  },
  {
   "cell_type": "code",
   "execution_count": 17,
   "metadata": {},
   "outputs": [],
   "source": [
    "### Comparison of nearby stataions. "
   ]
  },
  {
   "cell_type": "code",
   "execution_count": 216,
   "metadata": {},
   "outputs": [
    {
     "data": {
      "text/plain": [
       "<matplotlib.legend.Legend at 0x7f9b3ab7f2d0>"
      ]
     },
     "execution_count": 216,
     "metadata": {},
     "output_type": "execute_result"
    },
    {
     "data": {
      "image/png": "[encoded data removed]",
      "text/plain": [
       "<matplotlib.figure.Figure at 0x7f9b3b0ecd10>"
      ]
     },
     "metadata": {},
     "output_type": "display_data"
    }
   ],
   "source": [
    "plt.figure(figsize=(12,6))\n",
    "plt.plot(t_stn.datetime, t_stn[target_station],'ob',label=\"target station (\" + target_station+\")\")\n",
    "for i in range(2, 7):\n",
    "     plt.plot(t_stn.datetime, t_stn.iloc[:,i],'.',label=t_stn.columns[i])\n",
    "plt.ylabel(\"Daily percipitation at TA00025 in (mm)\")\n",
    "plt.xlabel(\"Days of the year\")\n",
    "plt.legend(loc=\"best\")"
   ]
  },
  {
   "cell_type": "markdown",
   "metadata": {},
   "source": [
    "Histogram of non-zero percipitation at target station "
   ]
  },
  {
   "cell_type": "code",
   "execution_count": 217,
   "metadata": {},
   "outputs": [],
   "source": [
    "t_nonzero_perp = (t_stn[t_stn[target_station]>0][target_station])"
   ]
  },
  {
   "cell_type": "code",
   "execution_count": 218,
   "metadata": {},
   "outputs": [
    {
     "data": {
      "text/plain": [
       "<matplotlib.axes._subplots.AxesSubplot at 0x7f9b3ab1f0d0>"
      ]
     },
     "execution_count": 218,
     "metadata": {},
     "output_type": "execute_result"
    },
    {
     "data": {
      "image/png": "[encoded data removed]",
      "text/plain": [
       "<matplotlib.figure.Figure at 0x7f9b3ac18f50>"
      ]
     },
     "metadata": {},
     "output_type": "display_data"
    }
   ],
   "source": [
    "sbn.kdeplot(t_nonzero_perp, shade=False)\n"
   ]
  },
  {
   "cell_type": "code",
   "execution_count": null,
   "metadata": {},
   "outputs": [],
   "source": [
    "## Transform the observation to log format"
   ]
  },
  {
   "cell_type": "code",
   "execution_count": 219,
   "metadata": {},
   "outputs": [
    {
     "data": {
      "image/png": "[encoded data removed]",
      "text/plain": [
       "<matplotlib.figure.Figure at 0x7f9b3b08d590>"
      ]
     },
     "metadata": {},
     "output_type": "display_data"
    }
   ],
   "source": [
    "sbn.distplot(np.log(t_nonzero_perp), hist=True);"
   ]
  },
  {
   "cell_type": "markdown",
   "metadata": {},
   "source": [
    "### Fit regression model \n",
    "The GLM generalizes linear regression by allowing the linear model to be related to the response variable via a link function and by allowing the magnitude of the variance of each measurement to be a function of its predicted value.\n",
    "\n",
    "Logistic regression is a GLM with logit link function.  In this model we will use GLM with logit link function for predicting whether it rains or not"
   ]
  },
  {
   "cell_type": "code",
   "execution_count": 220,
   "metadata": {},
   "outputs": [],
   "source": [
    "t_stn['rain_yes'] = (t_stn[target_station]>0).astype(int)"
   ]
  },
  {
   "cell_type": "code",
   "execution_count": 221,
   "metadata": {},
   "outputs": [
    {
     "data": {
      "text/html": [
       "<div>\n",
       "<style scoped>\n",
       "    .dataframe tbody tr th:only-of-type {\n",
       "        vertical-align: middle;\n",
       "    }\n",
       "\n",
       "    .dataframe tbody tr th {\n",
       "        vertical-align: top;\n",
       "    }\n",
       "\n",
       "    .dataframe thead th {\n",
       "        text-align: right;\n",
       "    }\n",
       "</style>\n",
       "<table border=\"1\" class=\"dataframe\">\n",
       "  <thead>\n",
       "    <tr style=\"text-align: right;\">\n",
       "      <th></th>\n",
       "      <th>TA00066</th>\n",
       "      <th>TA00057</th>\n",
       "      <th>TA00020</th>\n",
       "      <th>TA00024</th>\n",
       "      <th>TA00056</th>\n",
       "    </tr>\n",
       "  </thead>\n",
       "  <tbody>\n",
       "    <tr>\n",
       "      <th>0</th>\n",
       "      <td>0.20</td>\n",
       "      <td>0.04</td>\n",
       "      <td>0.0</td>\n",
       "      <td>0.16</td>\n",
       "      <td>0.00</td>\n",
       "    </tr>\n",
       "    <tr>\n",
       "      <th>1</th>\n",
       "      <td>0.08</td>\n",
       "      <td>0.00</td>\n",
       "      <td>0.0</td>\n",
       "      <td>0.18</td>\n",
       "      <td>0.00</td>\n",
       "    </tr>\n",
       "    <tr>\n",
       "      <th>2</th>\n",
       "      <td>0.00</td>\n",
       "      <td>0.04</td>\n",
       "      <td>0.0</td>\n",
       "      <td>0.14</td>\n",
       "      <td>0.00</td>\n",
       "    </tr>\n",
       "    <tr>\n",
       "      <th>3</th>\n",
       "      <td>4.39</td>\n",
       "      <td>16.49</td>\n",
       "      <td>0.0</td>\n",
       "      <td>7.49</td>\n",
       "      <td>30.89</td>\n",
       "    </tr>\n",
       "    <tr>\n",
       "      <th>4</th>\n",
       "      <td>0.48</td>\n",
       "      <td>0.95</td>\n",
       "      <td>0.0</td>\n",
       "      <td>0.88</td>\n",
       "      <td>4.16</td>\n",
       "    </tr>\n",
       "  </tbody>\n",
       "</table>\n",
       "</div>"
      ],
      "text/plain": [
       "   TA00066  TA00057  TA00020  TA00024  TA00056\n",
       "0     0.20     0.04      0.0     0.16     0.00\n",
       "1     0.08     0.00      0.0     0.18     0.00\n",
       "2     0.00     0.04      0.0     0.14     0.00\n",
       "3     4.39    16.49      0.0     7.49    30.89\n",
       "4     0.48     0.95      0.0     0.88     4.16"
      ]
     },
     "execution_count": 221,
     "metadata": {},
     "output_type": "execute_result"
    }
   ],
   "source": [
    "t_stn.iloc[:,2:-1].head(5)"
   ]
  },
  {
   "cell_type": "code",
   "execution_count": 222,
   "metadata": {},
   "outputs": [],
   "source": [
    "formula = \"rain_yes~TA00066+TA00057+TA00020+TA00024+TA00056\""
   ]
  },
  {
   "cell_type": "code",
   "execution_count": 223,
   "metadata": {},
   "outputs": [],
   "source": [
    "m1 = sfa.glm(family=st.families.Binomial(st.families.links.logit), formula=formula, data=t_stn).fit()"
   ]
  },
  {
   "cell_type": "code",
   "execution_count": 224,
   "metadata": {},
   "outputs": [
    {
     "data": {
      "text/html": [
       "<table class=\"simpletable\">\n",
       "<caption>Generalized Linear Model Regression Results</caption>\n",
       "<tr>\n",
       "  <th>Dep. Variable:</th>      <td>rain_yes</td>     <th>  No. Observations:  </th>  <td>   366</td> \n",
       "</tr>\n",
       "<tr>\n",
       "  <th>Model:</th>                 <td>GLM</td>       <th>  Df Residuals:      </th>  <td>   360</td> \n",
       "</tr>\n",
       "<tr>\n",
       "  <th>Model Family:</th>       <td>Binomial</td>     <th>  Df Model:          </th>  <td>     5</td> \n",
       "</tr>\n",
       "<tr>\n",
       "  <th>Link Function:</th>        <td>logit</td>      <th>  Scale:             </th>    <td>1.0</td>  \n",
       "</tr>\n",
       "<tr>\n",
       "  <th>Method:</th>               <td>IRLS</td>       <th>  Log-Likelihood:    </th> <td>     nan</td>\n",
       "</tr>\n",
       "<tr>\n",
       "  <th>Date:</th>           <td>Fri, 01 Jun 2018</td> <th>  Deviance:          </th> <td>  363.65</td>\n",
       "</tr>\n",
       "<tr>\n",
       "  <th>Time:</th>               <td>00:44:24</td>     <th>  Pearson chi2:      </th>  <td>  328.</td> \n",
       "</tr>\n",
       "<tr>\n",
       "  <th>No. Iterations:</th>        <td>11</td>        <th>                     </th>     <td> </td>   \n",
       "</tr>\n",
       "</table>\n",
       "<table class=\"simpletable\">\n",
       "<tr>\n",
       "      <td></td>         <th>coef</th>     <th>std err</th>      <th>z</th>      <th>P>|z|</th>  <th>[0.025</th>    <th>0.975]</th>  \n",
       "</tr>\n",
       "<tr>\n",
       "  <th>Intercept</th> <td>   -0.8638</td> <td>    0.146</td> <td>   -5.932</td> <td> 0.000</td> <td>   -1.149</td> <td>   -0.578</td>\n",
       "</tr>\n",
       "<tr>\n",
       "  <th>TA00066</th>   <td>    1.4307</td> <td>    0.597</td> <td>    2.396</td> <td> 0.017</td> <td>    0.260</td> <td>    2.601</td>\n",
       "</tr>\n",
       "<tr>\n",
       "  <th>TA00057</th>   <td>    1.4002</td> <td>    0.467</td> <td>    3.001</td> <td> 0.003</td> <td>    0.486</td> <td>    2.315</td>\n",
       "</tr>\n",
       "<tr>\n",
       "  <th>TA00020</th>   <td>    0.0106</td> <td>    0.073</td> <td>    0.144</td> <td> 0.885</td> <td>   -0.133</td> <td>    0.154</td>\n",
       "</tr>\n",
       "<tr>\n",
       "  <th>TA00024</th>   <td>    1.3076</td> <td>    0.566</td> <td>    2.308</td> <td> 0.021</td> <td>    0.197</td> <td>    2.418</td>\n",
       "</tr>\n",
       "<tr>\n",
       "  <th>TA00056</th>   <td>    0.0098</td> <td>    0.040</td> <td>    0.241</td> <td> 0.809</td> <td>   -0.069</td> <td>    0.089</td>\n",
       "</tr>\n",
       "</table>"
      ],
      "text/plain": [
       "<class 'statsmodels.iolib.summary.Summary'>\n",
       "\"\"\"\n",
       "                 Generalized Linear Model Regression Results                  \n",
       "==============================================================================\n",
       "Dep. Variable:               rain_yes   No. Observations:                  366\n",
       "Model:                            GLM   Df Residuals:                      360\n",
       "Model Family:                Binomial   Df Model:                            5\n",
       "Link Function:                  logit   Scale:                             1.0\n",
       "Method:                          IRLS   Log-Likelihood:                    nan\n",
       "Date:                Fri, 01 Jun 2018   Deviance:                       363.65\n",
       "Time:                        00:44:24   Pearson chi2:                     328.\n",
       "No. Iterations:                    11                                         \n",
       "==============================================================================\n",
       "                 coef    std err          z      P>|z|      [0.025      0.975]\n",
       "------------------------------------------------------------------------------\n",
       "Intercept     -0.8638      0.146     -5.932      0.000      -1.149      -0.578\n",
       "TA00066        1.4307      0.597      2.396      0.017       0.260       2.601\n",
       "TA00057        1.4002      0.467      3.001      0.003       0.486       2.315\n",
       "TA00020        0.0106      0.073      0.144      0.885      -0.133       0.154\n",
       "TA00024        1.3076      0.566      2.308      0.021       0.197       2.418\n",
       "TA00056        0.0098      0.040      0.241      0.809      -0.069       0.089\n",
       "==============================================================================\n",
       "\"\"\""
      ]
     },
     "execution_count": 224,
     "metadata": {},
     "output_type": "execute_result"
    }
   ],
   "source": [
    "m1.summary()"
   ]
  },
  {
   "cell_type": "code",
   "execution_count": 231,
   "metadata": {},
   "outputs": [],
   "source": [
    "## Comparing the fitted and observed values.\n",
    "i = np.argsort(m1.fittedvalues).tolist()  "
   ]
  },
  {
   "cell_type": "code",
   "execution_count": 232,
   "metadata": {},
   "outputs": [],
   "source": [
    "observed_value = t_stn.iloc[:,2:-1].mean(axis=1)"
   ]
  },
  {
   "cell_type": "code",
   "execution_count": 233,
   "metadata": {},
   "outputs": [
    {
     "data": {
      "text/plain": [
       "<matplotlib.text.Text at 0x7f9b3a730890>"
      ]
     },
     "execution_count": 233,
     "metadata": {},
     "output_type": "execute_result"
    },
    {
     "data": {
      "image/png": "[encoded data removed]",
      "text/plain": [
       "<matplotlib.figure.Figure at 0x7f9b3aacadd0>"
      ]
     },
     "metadata": {},
     "output_type": "display_data"
    }
   ],
   "source": [
    "\n",
    "plt.plot(observed_value[i],t_stn['rain_yes'][i],'*b')\n",
    "plt.scatter(observed_value[i], m1.fittedvalues[i],facecolor='none',edgecolors='r')\n",
    "plt.xlabel('Observed percipitation')\n",
    "plt.ylabel(\"Rain or not\")\n",
    "## x-axsi k-station average. "
   ]
  },
  {
   "cell_type": "markdown",
   "metadata": {},
   "source": [
    "### Evaluation "
   ]
  },
  {
   "cell_type": "code",
   "execution_count": 234,
   "metadata": {},
   "outputs": [],
   "source": [
    "pp = m1.fittedvalues\n",
    "ll = t_stn['rain_yes']\n"
   ]
  },
  {
   "cell_type": "code",
   "execution_count": 235,
   "metadata": {},
   "outputs": [],
   "source": [
    "def roc_metric(pred, obs):\n",
    "    fpr_rt_lm, tpr_rt_lm, _ = mt.roc_curve( ll, pp)\n",
    "    auc_score = mt.auc(fpr_rt_lm, tpr_rt_lm, reorder=True)\n",
    "  \n",
    "    plt.clf()\n",
    "    plt.plot(fpr_rt_lm, tpr_rt_lm, label='ROC curve')\n",
    "    plt.ylabel(\"tpr\")\n",
    "    plt.xlabel(\"fpr\")\n",
    "    plt.plot(range(0,2),range(0,2),'-r')\n",
    "    plt.text(0.6, 0.2,\"auc=\"+str(auc_score))\n",
    "    plt.legend(loc='best')\n",
    "    return auc_score\n"
   ]
  },
  {
   "cell_type": "code",
   "execution_count": 237,
   "metadata": {},
   "outputs": [
    {
     "data": {
      "text/plain": [
       "0.8654592689918776"
      ]
     },
     "execution_count": 237,
     "metadata": {},
     "output_type": "execute_result"
    },
    {
     "data": {
      "image/png": "[encoded data removed]",
      "text/plain": [
       "<matplotlib.figure.Figure at 0x7f9b3a878950>"
      ]
     },
     "metadata": {},
     "output_type": "display_data"
    }
   ],
   "source": [
    "roc_metric(m1.fittedvalues, ll)"
   ]
  },
  {
   "cell_type": "markdown",
   "metadata": {},
   "source": [
    "Use the m1 predictiosn for probability of rain as the weights in fitting the linear model. "
   ]
  },
  {
   "cell_type": "code",
   "execution_count": 238,
   "metadata": {},
   "outputs": [],
   "source": [
    "eps = .1\n",
    "weights = m1.fittedvalues\n",
    "for cln in t_stn.columns[1:-1]:\n",
    "    t_stn['l'+cln] = np.log(t_stn[cln] + eps)\n",
    "    "
   ]
  },
  {
   "cell_type": "code",
   "execution_count": 239,
   "metadata": {},
   "outputs": [
    {
     "data": {
      "text/html": [
       "<div>\n",
       "<style scoped>\n",
       "    .dataframe tbody tr th:only-of-type {\n",
       "        vertical-align: middle;\n",
       "    }\n",
       "\n",
       "    .dataframe tbody tr th {\n",
       "        vertical-align: top;\n",
       "    }\n",
       "\n",
       "    .dataframe thead th {\n",
       "        text-align: right;\n",
       "    }\n",
       "</style>\n",
       "<table border=\"1\" class=\"dataframe\">\n",
       "  <thead>\n",
       "    <tr style=\"text-align: right;\">\n",
       "      <th></th>\n",
       "      <th>datetime</th>\n",
       "      <th>TA00025</th>\n",
       "      <th>TA00066</th>\n",
       "      <th>TA00057</th>\n",
       "      <th>TA00020</th>\n",
       "      <th>TA00024</th>\n",
       "      <th>TA00056</th>\n",
       "      <th>rain_yes</th>\n",
       "      <th>lTA00025</th>\n",
       "      <th>lTA00066</th>\n",
       "      <th>lTA00057</th>\n",
       "      <th>lTA00020</th>\n",
       "      <th>lTA00024</th>\n",
       "      <th>lTA00056</th>\n",
       "    </tr>\n",
       "  </thead>\n",
       "  <tbody>\n",
       "    <tr>\n",
       "      <th>0</th>\n",
       "      <td>2016-01-01</td>\n",
       "      <td>0.14</td>\n",
       "      <td>0.20</td>\n",
       "      <td>0.04</td>\n",
       "      <td>0.0</td>\n",
       "      <td>0.16</td>\n",
       "      <td>0.00</td>\n",
       "      <td>1</td>\n",
       "      <td>-1.427116</td>\n",
       "      <td>-1.203973</td>\n",
       "      <td>-1.966113</td>\n",
       "      <td>-2.302585</td>\n",
       "      <td>-1.347074</td>\n",
       "      <td>-2.302585</td>\n",
       "    </tr>\n",
       "    <tr>\n",
       "      <th>1</th>\n",
       "      <td>2016-01-02</td>\n",
       "      <td>0.04</td>\n",
       "      <td>0.08</td>\n",
       "      <td>0.00</td>\n",
       "      <td>0.0</td>\n",
       "      <td>0.18</td>\n",
       "      <td>0.00</td>\n",
       "      <td>1</td>\n",
       "      <td>-1.966113</td>\n",
       "      <td>-1.714798</td>\n",
       "      <td>-2.302585</td>\n",
       "      <td>-2.302585</td>\n",
       "      <td>-1.272966</td>\n",
       "      <td>-2.302585</td>\n",
       "    </tr>\n",
       "    <tr>\n",
       "      <th>2</th>\n",
       "      <td>2016-01-03</td>\n",
       "      <td>0.08</td>\n",
       "      <td>0.00</td>\n",
       "      <td>0.04</td>\n",
       "      <td>0.0</td>\n",
       "      <td>0.14</td>\n",
       "      <td>0.00</td>\n",
       "      <td>1</td>\n",
       "      <td>-1.714798</td>\n",
       "      <td>-2.302585</td>\n",
       "      <td>-1.966113</td>\n",
       "      <td>-2.302585</td>\n",
       "      <td>-1.427116</td>\n",
       "      <td>-2.302585</td>\n",
       "    </tr>\n",
       "    <tr>\n",
       "      <th>3</th>\n",
       "      <td>2016-01-04</td>\n",
       "      <td>3.64</td>\n",
       "      <td>4.39</td>\n",
       "      <td>16.49</td>\n",
       "      <td>0.0</td>\n",
       "      <td>7.49</td>\n",
       "      <td>30.89</td>\n",
       "      <td>1</td>\n",
       "      <td>1.319086</td>\n",
       "      <td>1.501853</td>\n",
       "      <td>2.808800</td>\n",
       "      <td>-2.302585</td>\n",
       "      <td>2.026832</td>\n",
       "      <td>3.433665</td>\n",
       "    </tr>\n",
       "    <tr>\n",
       "      <th>4</th>\n",
       "      <td>2016-01-05</td>\n",
       "      <td>0.77</td>\n",
       "      <td>0.48</td>\n",
       "      <td>0.95</td>\n",
       "      <td>0.0</td>\n",
       "      <td>0.88</td>\n",
       "      <td>4.16</td>\n",
       "      <td>1</td>\n",
       "      <td>-0.139262</td>\n",
       "      <td>-0.544727</td>\n",
       "      <td>0.048790</td>\n",
       "      <td>-2.302585</td>\n",
       "      <td>-0.020203</td>\n",
       "      <td>1.449269</td>\n",
       "    </tr>\n",
       "  </tbody>\n",
       "</table>\n",
       "</div>"
      ],
      "text/plain": [
       "    datetime  TA00025  TA00066  TA00057  TA00020  TA00024  TA00056  rain_yes  \\\n",
       "0 2016-01-01     0.14     0.20     0.04      0.0     0.16     0.00         1   \n",
       "1 2016-01-02     0.04     0.08     0.00      0.0     0.18     0.00         1   \n",
       "2 2016-01-03     0.08     0.00     0.04      0.0     0.14     0.00         1   \n",
       "3 2016-01-04     3.64     4.39    16.49      0.0     7.49    30.89         1   \n",
       "4 2016-01-05     0.77     0.48     0.95      0.0     0.88     4.16         1   \n",
       "\n",
       "   lTA00025  lTA00066  lTA00057  lTA00020  lTA00024  lTA00056  \n",
       "0 -1.427116 -1.203973 -1.966113 -2.302585 -1.347074 -2.302585  \n",
       "1 -1.966113 -1.714798 -2.302585 -2.302585 -1.272966 -2.302585  \n",
       "2 -1.714798 -2.302585 -1.966113 -2.302585 -1.427116 -2.302585  \n",
       "3  1.319086  1.501853  2.808800 -2.302585  2.026832  3.433665  \n",
       "4 -0.139262 -0.544727  0.048790 -2.302585 -0.020203  1.449269  "
      ]
     },
     "execution_count": 239,
     "metadata": {},
     "output_type": "execute_result"
    }
   ],
   "source": [
    "t_stn.head(5)"
   ]
  },
  {
   "cell_type": "code",
   "execution_count": null,
   "metadata": {},
   "outputs": [],
   "source": [
    "## Ordinary linear regression.\n"
   ]
  },
  {
   "cell_type": "code",
   "execution_count": 43,
   "metadata": {},
   "outputs": [
    {
     "data": {
      "text/plain": [
       "LinearRegression(copy_X=True, fit_intercept=True, n_jobs=1, normalize=False)"
      ]
     },
     "execution_count": 43,
     "metadata": {},
     "output_type": "execute_result"
    }
   ],
   "source": [
    "m2= LinearRegression()\n",
    "m2.fit(X=t_stn.iloc[:,9:].as_matrix(), y=t_stn.iloc[:,9].as_matrix(), sample_weight=weights.as_matrix())"
   ]
  },
  {
   "cell_type": "code",
   "execution_count": 240,
   "metadata": {},
   "outputs": [],
   "source": [
    "fitted = m2.predict(t_stn.iloc[:,9:].as_matrix())"
   ]
  },
  {
   "cell_type": "code",
   "execution_count": 241,
   "metadata": {},
   "outputs": [],
   "source": [
    "residuals = (fitted - t_stn.iloc[:,9].as_matrix()).reshape([-1,1])"
   ]
  },
  {
   "cell_type": "code",
   "execution_count": 242,
   "metadata": {},
   "outputs": [
    {
     "name": "stderr",
     "output_type": "stream",
     "text": [
      "/home/tadeze/anaconda2/lib/python2.7/site-packages/ipykernel_launcher.py:1: RuntimeWarning: divide by zero encountered in log\n",
      "  \"\"\"Entry point for launching an IPython kernel.\n"
     ]
    },
    {
     "data": {
      "text/plain": [
       "<matplotlib.text.Text at 0x7f9b3ad54b10>"
      ]
     },
     "execution_count": 242,
     "metadata": {},
     "output_type": "execute_result"
    },
    {
     "data": {
      "image/png": "[encoded data removed]",
      "text/plain": [
       "<matplotlib.figure.Figure at 0x7f9b3a78cd90>"
      ]
     },
     "metadata": {},
     "output_type": "display_data"
    }
   ],
   "source": [
    "plt.scatter(t_stn.iloc[:,9], np.log(observed_value))\n",
    "plt.plot(t_stn.iloc[:,9], fitted,'-r')\n",
    "plt.xlabel('Log (predictor + eps)')\n",
    "plt.ylabel('Log (response + eps)')"
   ]
  },
  {
   "cell_type": "code",
   "execution_count": 243,
   "metadata": {},
   "outputs": [
    {
     "data": {
      "text/plain": [
       "<matplotlib.text.Text at 0x7f9b3a676150>"
      ]
     },
     "execution_count": 243,
     "metadata": {},
     "output_type": "execute_result"
    },
    {
     "data": {
      "image/png": "[encoded data removed]",
      "text/plain": [
       "<matplotlib.figure.Figure at 0x7f9b3a8787d0>"
      ]
     },
     "metadata": {},
     "output_type": "display_data"
    }
   ],
   "source": [
    "# Show fitted versus observed in original units\n",
    "plt.plot(np.exp(fitted - eps), observed_value, '.r')\n",
    "plt.ylabel('Predicted value')\n",
    "plt.xlabel(\"Averaged observed percipitation across neighbor\")\n"
   ]
  },
  {
   "cell_type": "code",
   "execution_count": 244,
   "metadata": {},
   "outputs": [],
   "source": [
    "# Density of the residuals \n",
    "kde = KernelDensity(kernel='gaussian').fit(residuals)\n"
   ]
  },
  {
   "cell_type": "code",
   "execution_count": 245,
   "metadata": {},
   "outputs": [
    {
     "data": {
      "text/plain": [
       "<matplotlib.axes._subplots.AxesSubplot at 0x7f9b3a5d6c10>"
      ]
     },
     "execution_count": 245,
     "metadata": {},
     "output_type": "execute_result"
    },
    {
     "data": {
      "image/png": "[encoded data removed]",
      "text/plain": [
       "<matplotlib.figure.Figure at 0x7f9b3a6fe750>"
      ]
     },
     "metadata": {},
     "output_type": "display_data"
    }
   ],
   "source": [
    "sbn.distplot(residuals,hist=False)"
   ]
  },
  {
   "cell_type": "markdown",
   "metadata": {},
   "source": [
    " Smear out the rain over multiple days.\n"
   ]
  },
  {
   "cell_type": "code",
   "execution_count": null,
   "metadata": {},
   "outputs": [],
   "source": [
    "Mixture of linear model.\n"
   ]
  },
  {
   "cell_type": "code",
   "execution_count": 246,
   "metadata": {},
   "outputs": [],
   "source": [
    "def mixl(observations, p1, predictions):\n",
    "    \"\"\"\n",
    "    Args:\n",
    "     observations: ground observation. \n",
    "     p1: 0/1 prediction model. \n",
    "     predictions: fitted values for the log(rain + epsilon) model\n",
    "     \n",
    "    \"\"\"\n",
    "    # Reshape for 1-D format. \n",
    "    p1 = p1.reshape([-1, 1])\n",
    "    observations = observations.reshape([-1,1])\n",
    "    predictions = predictions.reshape([-1,1])\n",
    "    \n",
    "    zero_rain = np.multiply((1-p1),(observations==0))\n",
    "    non_zero = np.divide(np.multiply(p1,\n",
    "                                     np.exp(kde.score_samples(predictions-np.log(observations + eps))).reshape([-1,1])),\n",
    "                         abs(observations+eps))\n",
    "                         \n",
    "    result = zero_rain + non_zero\n",
    "    return result\n",
    "\n"
   ]
  },
  {
   "cell_type": "code",
   "execution_count": 247,
   "metadata": {},
   "outputs": [
    {
     "data": {
      "text/plain": [
       "<matplotlib.text.Text at 0x7f9b3a4d6050>"
      ]
     },
     "execution_count": 247,
     "metadata": {},
     "output_type": "execute_result"
    },
    {
     "data": {
      "image/png": "[encoded data removed]",
      "text/plain": [
       "<matplotlib.figure.Figure at 0x7f9b3a6fed10>"
      ]
     },
     "metadata": {},
     "output_type": "display_data"
    }
   ],
   "source": [
    "plt.plot(lll,'r.')\n",
    "plt.ylabel('-log(p(target_station))')\n",
    "plt.xlabel('Days of the year')"
   ]
  },
  {
   "cell_type": "code",
   "execution_count": 156,
   "metadata": {},
   "outputs": [],
   "source": [
    "## Insert synthetic faults.\n",
    "insert_fault = observations.copy()\n",
    "#plt.plot(observations,'.r')"
   ]
  },
  {
   "cell_type": "code",
   "execution_count": 157,
   "metadata": {},
   "outputs": [],
   "source": [
    "insert_fault[100:150] = 0.0"
   ]
  },
  {
   "cell_type": "code",
   "execution_count": 194,
   "metadata": {},
   "outputs": [
    {
     "data": {
      "text/plain": [
       "<matplotlib.text.Text at 0x7f9b3afdbc10>"
      ]
     },
     "execution_count": 194,
     "metadata": {},
     "output_type": "execute_result"
    },
    {
     "data": {
      "image/png": "[encoded data removed]",
      "text/plain": [
       "<matplotlib.figure.Figure at 0x7f9b3b3b7550>"
      ]
     },
     "metadata": {},
     "output_type": "display_data"
    }
   ],
   "source": [
    "plt.plot(observations, '.b',label='ground truth')\n",
    "plt.plot(insert_fault, '.r',label='inserted faults')\n",
    "plt.xlabel('Days')\n",
    "plt.ylabel('Rainfall (mm)')"
   ]
  },
  {
   "cell_type": "code",
   "execution_count": 248,
   "metadata": {},
   "outputs": [
    {
     "name": "stderr",
     "output_type": "stream",
     "text": [
      "/home/tadeze/anaconda2/lib/python2.7/site-packages/ipykernel_launcher.py:10: FutureWarning: reshape is deprecated and will raise in a subsequent release. Please use .values.reshape(...) instead\n",
      "  # Remove the CWD from sys.path while we load stuff.\n"
     ]
    }
   ],
   "source": [
    "l_insert = mixl(insert_fault, m1.fittedvalues, fitted)\n",
    "ll_insert = -np.log(l_insert)"
   ]
  },
  {
   "cell_type": "code",
   "execution_count": 193,
   "metadata": {},
   "outputs": [
    {
     "data": {
      "text/plain": [
       "<matplotlib.text.Text at 0x7f9b3af3b4d0>"
      ]
     },
     "execution_count": 193,
     "metadata": {},
     "output_type": "execute_result"
    },
    {
     "data": {
      "image/png": "[encoded data removed]",
      "text/plain": [
       "<matplotlib.figure.Figure at 0x7f9b3b3b7750>"
      ]
     },
     "metadata": {},
     "output_type": "display_data"
    }
   ],
   "source": [
    "plt.plot(range(100,150), ll_insert[100:150],'.r', label='inserted faults')\n",
    "plt.plot(range(100,150), lll[100:150],'.b',label='ground truth')\n",
    "plt.legend(loc='best')\n",
    "plt.xlabel('Days')\n",
    "plt.ylabel('-log P(target_station)')"
   ]
  },
  {
   "cell_type": "markdown",
   "metadata": {},
   "source": [
    "\n",
    "### Exercise.\n",
    "1. Predict the rainfall events of 2017 for TA00074.\n",
    "2. Generate anomaly score based on the mixture model, for TA00074.\n"
   ]
  }
 ],
 "metadata": {
  "kernelspec": {
   "display_name": "Python 2",
   "language": "python",
   "name": "python2"
  },
  "language_info": {
   "codemirror_mode": {
    "name": "ipython",
    "version": 2
   },
   "file_extension": ".py",
   "mimetype": "text/x-python",
   "name": "python",
   "nbconvert_exporter": "python",
   "pygments_lexer": "ipython2",
   "version": "2.7.12"
  }
 },
 "nbformat": 4,
 "nbformat_minor": 2
}
